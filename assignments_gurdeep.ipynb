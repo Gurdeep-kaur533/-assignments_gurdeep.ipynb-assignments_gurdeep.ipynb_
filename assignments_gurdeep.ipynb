{
  "cells": [
    {
      "cell_type": "markdown",
      "metadata": {
        "id": "view-in-github",
        "colab_type": "text"
      },
      "source": [
        "<a href=\"https://colab.research.google.com/github/Gurdeep-kaur533/-assignments_gurdeep.ipynb-assignments_gurdeep.ipynb_/blob/main/assignments_gurdeep.ipynb\" target=\"_parent\"><img src=\"https://colab.research.google.com/assets/colab-badge.svg\" alt=\"Open In Colab\"/></a>"
      ]
    },
    {
      "cell_type": "markdown",
      "id": "05ab2ad7-81d1-4568-b8cd-10e6a4eb00fa",
      "metadata": {
        "id": "05ab2ad7-81d1-4568-b8cd-10e6a4eb00fa"
      },
      "source": [
        "#### Assignment 2"
      ]
    },
    {
      "cell_type": "code",
      "execution_count": null,
      "id": "2560393d-0b51-4858-870b-1b8e707739a2",
      "metadata": {
        "colab": {
          "base_uri": "https://localhost:8080/"
        },
        "id": "2560393d-0b51-4858-870b-1b8e707739a2",
        "outputId": "0f78ddec-d163-42c2-c67d-9c2ff2ec680d"
      },
      "outputs": [
        {
          "output_type": "stream",
          "name": "stdout",
          "text": [
            "1\n",
            "2\n",
            "3\n",
            "4\n",
            "5\n",
            "6\n",
            "7\n",
            "8\n"
          ]
        }
      ],
      "source": [
        "# print 1 to 10 stop at 9\n",
        "for i in range(1,11):\n",
        "    if i == 9:\n",
        "        break\n",
        "    print(i)"
      ]
    },
    {
      "cell_type": "code",
      "execution_count": null,
      "id": "f237fac0-b8b7-4890-a807-87ccd2493a6e",
      "metadata": {
        "colab": {
          "base_uri": "https://localhost:8080/"
        },
        "id": "f237fac0-b8b7-4890-a807-87ccd2493a6e",
        "outputId": "bf4bd802-d5f8-4b08-d3c6-f72b098b80cd"
      },
      "outputs": [
        {
          "output_type": "stream",
          "name": "stdout",
          "text": [
            "Enter a number: 10\n",
            "you entered: 10\n",
            "Enter a number: -5\n",
            "Negative number entered. stop the program.\n"
          ]
        }
      ],
      "source": [
        "#stop when user enter -ve number\n",
        "num = int(input(\"Enter a number: \"))\n",
        "while num >= 0:\n",
        "    print(f\"you entered: {num}\")\n",
        "    num = int(input(\"Enter a number: \"))\n",
        "print(\"Negative number entered. stop the program.\")"
      ]
    },
    {
      "cell_type": "code",
      "execution_count": null,
      "id": "efd6eb03-40ed-4658-ad9e-065b9870bec0",
      "metadata": {
        "colab": {
          "base_uri": "https://localhost:8080/"
        },
        "id": "efd6eb03-40ed-4658-ad9e-065b9870bec0",
        "outputId": "cbf8e05d-0aae-433f-951a-1bdffe91ea90"
      },
      "outputs": [
        {
          "output_type": "stream",
          "name": "stdout",
          "text": [
            "First even number is: 2\n"
          ]
        }
      ],
      "source": [
        "# find even number\n",
        "numbers = [7,9,13,2,4,8,11,15]\n",
        "for num in numbers:\n",
        "    if num % 2 == 0:\n",
        "        print(f\"First even number is: {num}\")\n",
        "        break"
      ]
    },
    {
      "cell_type": "code",
      "execution_count": null,
      "id": "6967c920-be99-4019-aec8-29b5f20cf567",
      "metadata": {
        "colab": {
          "base_uri": "https://localhost:8080/"
        },
        "id": "6967c920-be99-4019-aec8-29b5f20cf567",
        "outputId": "fd0bc5f7-a2a5-4d4b-aed5-af9e2f2611d3"
      },
      "outputs": [
        {
          "output_type": "stream",
          "name": "stdout",
          "text": [
            "last valid sum before exceeding: 18\n",
            "last number added: 4\n"
          ]
        }
      ],
      "source": [
        "# add numbers until exceeds\n",
        "numbers = [2,5,7,4,6,3,8,10]\n",
        "limit = 20\n",
        "total = 0\n",
        "for num in numbers:\n",
        "    if total + num > limit:\n",
        "        break\n",
        "    total += num\n",
        "    last_number = num\n",
        "print(f\"last valid sum before exceeding: {total}\")\n",
        "print(f\"last number added: {last_number}\")\n"
      ]
    },
    {
      "cell_type": "code",
      "execution_count": null,
      "id": "edfe67c9-0385-4ec7-b93f-a10a57592f16",
      "metadata": {
        "colab": {
          "base_uri": "https://localhost:8080/"
        },
        "id": "edfe67c9-0385-4ec7-b93f-a10a57592f16",
        "outputId": "43953a33-7617-48a9-ece7-31e9389f3502"
      },
      "outputs": [
        {
          "output_type": "stream",
          "name": "stdout",
          "text": [
            "Enter the password: hello\n",
            "Wrong password .Try again.\n",
            "Enter the password: admin\n",
            "Access granted!\n"
          ]
        }
      ],
      "source": [
        "# guess the password\n",
        "correct_password = \"admin\"\n",
        "while True:\n",
        "    guess = input(\"Enter the password: \")\n",
        "    if guess == correct_password:\n",
        "        print(\"Access granted!\")\n",
        "        break\n",
        "    else:\n",
        "        print(\"Wrong password .Try again.\")\n"
      ]
    },
    {
      "cell_type": "code",
      "execution_count": null,
      "id": "bdb20f1f-21ef-4331-88fe-8f36b58a11c7",
      "metadata": {
        "colab": {
          "base_uri": "https://localhost:8080/"
        },
        "id": "bdb20f1f-21ef-4331-88fe-8f36b58a11c7",
        "outputId": "1e287c20-f9ab-4b7a-d704-90e3ce61a8c0"
      },
      "outputs": [
        {
          "output_type": "stream",
          "name": "stdout",
          "text": [
            "7 * 1 = 7\n",
            "7 * 2 = 14\n",
            "7 * 3 = 21\n",
            "7 * 4 = 28\n",
            "7 * 5 = 35\n",
            "7 * 6 = 42\n",
            "7 * 7 = 49\n",
            "7 * 8 = 56\n",
            "7 * 9 = 63\n",
            "7 * 10 = 70\n",
            "7 * 11 = 77\n",
            "7 * 12 = 84\n",
            "7 * 13 = 91\n",
            "7 * 14 = 98\n"
          ]
        }
      ],
      "source": [
        "# multiplies of 7\n",
        "i = 1\n",
        "while True:\n",
        "    result = 7*i\n",
        "    if result > 100:\n",
        "        break\n",
        "    print(f\"7 * {i} = {result}\")\n",
        "    i += 1"
      ]
    },
    {
      "cell_type": "code",
      "execution_count": null,
      "id": "588d17a8-3c77-4cf8-a054-060ffe394727",
      "metadata": {
        "colab": {
          "base_uri": "https://localhost:8080/"
        },
        "id": "588d17a8-3c77-4cf8-a054-060ffe394727",
        "outputId": "e641a365-0957-498e-e691-1289b8bc2bad"
      },
      "outputs": [
        {
          "output_type": "stream",
          "name": "stdout",
          "text": [
            " Enter a number: 45089\n",
            "4\n",
            "5\n"
          ]
        }
      ],
      "source": [
        "# print num_digit until zero not found\n",
        "number = input(\" Enter a number: \")\n",
        "for digit in number:\n",
        "    if digit == '0':\n",
        "        break\n",
        "    print(digit)\n"
      ]
    },
    {
      "cell_type": "markdown",
      "id": "7b248e19-77d9-4a02-b963-4a8961cc4e27",
      "metadata": {
        "id": "7b248e19-77d9-4a02-b963-4a8961cc4e27"
      },
      "source": [
        "#### Assignment 3"
      ]
    },
    {
      "cell_type": "code",
      "execution_count": null,
      "id": "b42ca259-f847-4056-8987-a9561d8f2088",
      "metadata": {
        "colab": {
          "base_uri": "https://localhost:8080/"
        },
        "id": "b42ca259-f847-4056-8987-a9561d8f2088",
        "outputId": "5ab6d8c6-32cc-40fb-b04f-ebf34fbfb5a3"
      },
      "outputs": [
        {
          "output_type": "stream",
          "name": "stdout",
          "text": [
            "['I', 'love', 'python']\n",
            "I love python\n",
            "python love I\n"
          ]
        }
      ],
      "source": [
        "# Reverse the sentence\n",
        "sentence = \"I love python\"\n",
        "print(sentence.split())\n",
        "reverse = ' '.join(sentence.split()[::-1])\n",
        "print(sentence)\n",
        "print(reverse)"
      ]
    },
    {
      "cell_type": "code",
      "execution_count": null,
      "id": "f46f1260-fb6d-4cc3-a3cd-d8d61f37bea1",
      "metadata": {
        "colab": {
          "base_uri": "https://localhost:8080/"
        },
        "id": "f46f1260-fb6d-4cc3-a3cd-d8d61f37bea1",
        "outputId": "44760da4-c43a-4a96-87bb-36f08faa1d53"
      },
      "outputs": [
        {
          "output_type": "stream",
          "name": "stdout",
          "text": [
            "Consonants string:  hllwrld\n",
            "Number of consonants:  7\n"
          ]
        }
      ],
      "source": [
        "# Count consonants (ignoring case)\n",
        "string = \"Hello World\"\n",
        "vowels = \"aeiou\"\n",
        "consonants = \"\"\n",
        "count = 0\n",
        "for char in string.lower():\n",
        "    if char.isalpha() and char not in vowels:\n",
        "        consonants += char\n",
        "print (\"Consonants string: \", consonants)\n",
        "print (\"Number of consonants: \", len(consonants))"
      ]
    },
    {
      "cell_type": "code",
      "execution_count": null,
      "id": "753ff9fe-facc-4069-865b-502f92544fa2",
      "metadata": {
        "colab": {
          "base_uri": "https://localhost:8080/"
        },
        "id": "753ff9fe-facc-4069-865b-502f92544fa2",
        "outputId": "e7806e57-5577-4d73-c0ff-c46dd5e04e13"
      },
      "outputs": [
        {
          "output_type": "stream",
          "name": "stdout",
          "text": [
            "Anagram\n"
          ]
        }
      ],
      "source": [
        "# check string are anagrams or not\n",
        "s1 = \"Listen\"\n",
        "s2 = \"Silent\"\n",
        "s1_sorted = sorted(s1.lower())\n",
        "s2_sorted = sorted(s2.lower())\n",
        "if s1_sorted == s2_sorted:\n",
        " print(\"Anagram\")\n",
        "else:\n",
        " print(\"Not Anagram\")\n"
      ]
    },
    {
      "cell_type": "code",
      "execution_count": null,
      "id": "d38df864-96b1-45ea-95c7-d02bb881c633",
      "metadata": {
        "colab": {
          "base_uri": "https://localhost:8080/"
        },
        "id": "d38df864-96b1-45ea-95c7-d02bb881c633",
        "outputId": "14e83be6-7c3a-4788-fae4-9d6da5dcdb56"
      },
      "outputs": [
        {
          "output_type": "stream",
          "name": "stdout",
          "text": [
            "Compressed string: a3b2c1\n"
          ]
        }
      ],
      "source": [
        "# compressed string\n",
        "s = \"aaabbc\"\n",
        "compressed = \"\"\n",
        "i = 0\n",
        "while i < len(s):\n",
        "    count = 1\n",
        "    while i + 1 < len(s) and s[i] == s[i + 1]:\n",
        "        count += 1\n",
        "        i += 1\n",
        "    compressed += s[i] + str(count)\n",
        "    i += 1\n",
        "print(\"Compressed string:\", compressed)"
      ]
    },
    {
      "cell_type": "code",
      "execution_count": null,
      "id": "ec01b10e-bc17-4abd-aaf0-77e5fb034c0a",
      "metadata": {
        "colab": {
          "base_uri": "https://localhost:8080/"
        },
        "id": "ec01b10e-bc17-4abd-aaf0-77e5fb034c0a",
        "outputId": "021f5865-9782-4b53-8fb8-de5cec88d089"
      },
      "outputs": [
        {
          "output_type": "stream",
          "name": "stdout",
          "text": [
            "First non-repeating letter is: p\n"
          ]
        }
      ],
      "source": [
        "# find char that appears only once\n",
        "str = \"programming\"\n",
        "count = [0] * 256   #ASCII value beacuse of case sensitive\n",
        "for ch in str:\n",
        "    count[ord(ch)] += 1\n",
        "for ch in str:\n",
        "    if count[ord(ch)] == 1:\n",
        "        print(\"First non-repeating letter is:\", ch)\n",
        "        break\n",
        "else:\n",
        "    print(\"No non-repeating letter found\")"
      ]
    },
    {
      "cell_type": "code",
      "execution_count": null,
      "id": "30f063c0-6448-4fec-a2ec-65ace0bed3bb",
      "metadata": {
        "colab": {
          "base_uri": "https://localhost:8080/"
        },
        "id": "30f063c0-6448-4fec-a2ec-65ace0bed3bb",
        "outputId": "cde87bdc-4de2-4762-b800-e7364b85d47c"
      },
      "outputs": [
        {
          "output_type": "stream",
          "name": "stdout",
          "text": [
            "Longest palindrome: bab\n"
          ]
        }
      ],
      "source": [
        "# longest substring\n",
        "s = \"babad\"\n",
        "longest = \"\"\n",
        "for i in range(len(s)):\n",
        "    for j in range(i, len(s)):\n",
        "        sub = s[i:j+1]\n",
        "        if sub == sub[::-1]:\n",
        "            if len(sub) > len(longest):\n",
        "                longest = sub\n",
        "print(\"Longest palindrome:\", longest)"
      ]
    },
    {
      "cell_type": "code",
      "execution_count": null,
      "id": "b583fa56-e806-4796-8710-4e48adbf3d65",
      "metadata": {
        "colab": {
          "base_uri": "https://localhost:8080/"
        },
        "id": "b583fa56-e806-4796-8710-4e48adbf3d65",
        "outputId": "f6818399-f2a5-428a-82d2-f3c159bee66d"
      },
      "outputs": [
        {
          "output_type": "stream",
          "name": "stdout",
          "text": [
            "Enter a string: ({[]})\n",
            "valid\n"
          ]
        }
      ],
      "source": [
        "# check sequence is valid or not\n",
        "x = input(\"Enter a string: \")\n",
        "s = []\n",
        "dict = {')':'(', ']':'[', '}':'{'}\n",
        "valid = True\n",
        "for i in x:\n",
        "    if i in '([{':\n",
        "        s.append(i)\n",
        "    elif i in ')]}':\n",
        "        if not s and s[-1] != dict[i]:\n",
        "            valid = False\n",
        "            break\n",
        "        s.pop()\n",
        "if s:\n",
        "    valid = False\n",
        "print(\"valid\" if valid else \"Invalid\")\n"
      ]
    },
    {
      "cell_type": "code",
      "execution_count": null,
      "id": "06aae49f-eecf-4021-91f2-3f2ae9dda9c2",
      "metadata": {
        "colab": {
          "base_uri": "https://localhost:8080/"
        },
        "id": "06aae49f-eecf-4021-91f2-3f2ae9dda9c2",
        "outputId": "a17039e0-0cfb-49aa-f6f9-af7c079a8fe3"
      },
      "outputs": [
        {
          "output_type": "stream",
          "name": "stdout",
          "text": [
            "0\n"
          ]
        }
      ],
      "source": [
        "#  Word ladder transformation\n",
        "from collections import deque\n",
        "start = \"hit\"\n",
        "end = \"cog\"\n",
        "wordList = [\"hot\", \"dot\", \"dog\", \"lot\", \"log\", \"cog\"]\n",
        "wordSet = set(wordList)\n",
        "queue = deque([(start, 1)])\n",
        "while queue:\n",
        "    word, steps = queue.popleft()\n",
        "    if word == end:\n",
        "        print(steps)\n",
        "        break\n",
        "for i in range(len(word)):\n",
        "    for c in 'abcdefghijklmnopqrstuvwxyz':\n",
        "        next_word = word[:i] + c + word[i+1:]\n",
        "        if next_word in wordSet:\n",
        "            wordSet.remove(next_word)\n",
        "            queue.append((next_word, steps + 1))\n",
        "else:\n",
        "    print(0)"
      ]
    },
    {
      "cell_type": "markdown",
      "id": "eb952724-003e-4e87-97ff-946eda57b793",
      "metadata": {
        "id": "eb952724-003e-4e87-97ff-946eda57b793"
      },
      "source": [
        "#### Assignment 4"
      ]
    },
    {
      "cell_type": "code",
      "execution_count": null,
      "id": "19c268e3-eb7a-4d41-943c-aef019ef4473",
      "metadata": {
        "colab": {
          "base_uri": "https://localhost:8080/"
        },
        "id": "19c268e3-eb7a-4d41-943c-aef019ef4473",
        "outputId": "e747f838-24b1-4441-9524-b462d36bac08"
      },
      "outputs": [
        {
          "output_type": "stream",
          "name": "stdout",
          "text": [
            "{'Ram': 80, 'Raman': 40, 'Ali': 78, 'Disha': 90, 'Sham': 55}\n",
            "dict_keys(['Ram', 'Raman', 'Ali', 'Disha', 'Sham'])\n",
            "dict_values([80, 40, 78, 90, 55])\n"
          ]
        }
      ],
      "source": [
        "# print the dictionary items\n",
        "dict = {'Ram': 80, 'Raman': 40, 'Ali': 78, 'Disha': 90, 'Sham': 55}\n",
        "print(dict)\n",
        "print(dict.keys())\n",
        "print(dict.values())"
      ]
    },
    {
      "cell_type": "code",
      "execution_count": null,
      "id": "881409e5-c6ac-41be-b405-fd08386b10b0",
      "metadata": {
        "colab": {
          "base_uri": "https://localhost:8080/"
        },
        "id": "881409e5-c6ac-41be-b405-fd08386b10b0",
        "outputId": "16aa8cdc-c452-486e-a138-108a4cb0c473"
      },
      "outputs": [
        {
          "output_type": "stream",
          "name": "stdout",
          "text": [
            "{'H': 1, 'e': 1, 'l': 3, 'o': 2, ' ': 1, 'w': 1, 'r': 1, 'd': 1, '!': 1}\n"
          ]
        }
      ],
      "source": [
        "# count frequency of character using dictionary\n",
        "string = \"Hello world!\"\n",
        "char_freq = {}                      # using dictionary\n",
        "for char in string:\n",
        "    if char in char_freq:\n",
        "        char_freq[char] += 1\n",
        "    else:\n",
        "        char_freq[char] = 1\n",
        "print(char_freq)"
      ]
    },
    {
      "cell_type": "code",
      "execution_count": null,
      "id": "5888ebff-9b5a-4d48-872f-1a05f4b63302",
      "metadata": {
        "colab": {
          "base_uri": "https://localhost:8080/"
        },
        "id": "5888ebff-9b5a-4d48-872f-1a05f4b63302",
        "outputId": "fd48a871-c6a1-4444-d157-837854c7e943"
      },
      "outputs": [
        {
          "output_type": "stream",
          "name": "stdout",
          "text": [
            "oldest_person_age: \n",
            "Sumit - 67\n"
          ]
        }
      ],
      "source": [
        "# print name of oldest persons\n",
        "person_age = {'Alice': 45, 'Sumit': 67, 'David': 34, 'Rani': 50, 'Sham': 35}\n",
        "max_age = max(person_age.values())\n",
        "print(\"oldest_person_age: \")\n",
        "for name in person_age:\n",
        "    if person_age[name] == max_age:\n",
        "        print(name, \"-\",max_age)"
      ]
    },
    {
      "cell_type": "code",
      "execution_count": null,
      "id": "1903e610-833e-48e3-9f4d-b3c5dda74c85",
      "metadata": {
        "colab": {
          "base_uri": "https://localhost:8080/"
        },
        "id": "1903e610-833e-48e3-9f4d-b3c5dda74c85",
        "outputId": "14fcf105-2682-4e7a-bbb8-b2b7cc5fd98e"
      },
      "outputs": [
        {
          "output_type": "stream",
          "name": "stdout",
          "text": [
            "{1: 'a', 2: 'b', 3: 'c', 4: 'd', 5: 'e', 6: 'f', 7: 'g', 8: 'h'}\n"
          ]
        }
      ],
      "source": [
        "# merge the dictionary\n",
        "dict1= {1:'a',2:'b',3:'c',4:'d'}\n",
        "dict2= {5:'e',6:'f',7:'g',8:'h'}\n",
        "# merge dict1 and dict2\n",
        "dict3= dict1 |dict2\n",
        "print(dict3)"
      ]
    },
    {
      "cell_type": "code",
      "execution_count": null,
      "id": "fb08137f-4537-456d-8053-a14d56a4db7a",
      "metadata": {
        "colab": {
          "base_uri": "https://localhost:8080/"
        },
        "id": "fb08137f-4537-456d-8053-a14d56a4db7a",
        "outputId": "301039a4-c26a-4a08-94ec-0c55c4ab1d22"
      },
      "outputs": [
        {
          "output_type": "stream",
          "name": "stdout",
          "text": [
            "{1: 'a', 2: 'b', 3: 'c', 4: 'd', 5: 'e', 6: 'f', 7: 'g', 8: 'h'}\n"
          ]
        }
      ],
      "source": [
        "# or\n",
        "dict1.update(dict2)\n",
        "print(dict1)"
      ]
    },
    {
      "cell_type": "code",
      "execution_count": null,
      "id": "110681ef-3e85-4e4d-beee-49e24e4c182b",
      "metadata": {
        "colab": {
          "base_uri": "https://localhost:8080/"
        },
        "id": "110681ef-3e85-4e4d-beee-49e24e4c182b",
        "outputId": "883bc2f4-2e55-46cb-d83e-61416d1ee26b"
      },
      "outputs": [
        {
          "output_type": "stream",
          "name": "stdout",
          "text": [
            "Number : Square\n",
            "1 : 1\n",
            "2 : 4\n",
            "3 : 9\n",
            "4 : 16\n",
            "5 : 25\n",
            "6 : 36\n",
            "7 : 49\n",
            "8 : 64\n",
            "9 : 81\n",
            "10 : 100\n"
          ]
        }
      ],
      "source": [
        "# dict. in which values are square of keys\n",
        "squares = {}\n",
        "for i in range(1,11):\n",
        "    squares[i] = i * i\n",
        "print(\"Number : Square\")\n",
        "for number, square in squares.items():\n",
        "    print(number, \":\", square)"
      ]
    },
    {
      "cell_type": "code",
      "execution_count": null,
      "id": "60f10647-580f-4e25-9f5b-dc4d21163bf4",
      "metadata": {
        "colab": {
          "base_uri": "https://localhost:8080/"
        },
        "id": "60f10647-580f-4e25-9f5b-dc4d21163bf4",
        "outputId": "1b2b16dd-4a6a-4baf-fd29-2d68badee394"
      },
      "outputs": [
        {
          "output_type": "stream",
          "name": "stdout",
          "text": [
            "Swapped dict: \n",
            "{'Ram': 1, 'Sham': 2, 'Rani': 3, 'Taran': 4, 'Manu': 5}\n"
          ]
        }
      ],
      "source": [
        "# swap the dictionary\n",
        "dict = {1:'Ram', 2:'Sham', 3:'Rani', 4:'Taran', 5:'Manu'}\n",
        "swap = {}\n",
        "for key, value in dict.items():\n",
        "    swap[value] = key\n",
        "print(\"Swapped dict: \")\n",
        "print(swap)"
      ]
    },
    {
      "cell_type": "code",
      "execution_count": null,
      "id": "0d84fc72-8728-4ea2-b4de-810c86a1f97a",
      "metadata": {
        "colab": {
          "base_uri": "https://localhost:8080/"
        },
        "id": "0d84fc72-8728-4ea2-b4de-810c86a1f97a",
        "outputId": "fbfcc5ff-dab7-4299-cf83-cabcffc2d265"
      },
      "outputs": [
        {
          "output_type": "stream",
          "name": "stdout",
          "text": [
            "Alice - Average Marks: 84.33333333333333\n",
            "Bob - Average Marks: 65.0\n",
            "David - Average Marks: 69.33333333333333\n",
            "Charli - Average Marks: 70.0\n"
          ]
        }
      ],
      "source": [
        "# nested dictionary\n",
        "students = {\n",
        "    \"Alice\": {\"Math\": 85, \"English\": 90, \"Science\": 78},\n",
        "    \"Bob\": {\"Math\": 60, \"English\": 65, \"Science\": 70},\n",
        "    \"David\": {\"Math\": 80, \"English\": 78, \"Science\": 50},\n",
        "    \"Charli\": {\"Math\": 70, \"English\": 60, \"Science\": 80},\n",
        "}\n",
        "for name, subjects in students.items():\n",
        "    total = sum(subjects.values())\n",
        "    count = len(subjects)\n",
        "    average = total/count\n",
        "    print(f\"{name} - Average Marks: {average:}\")"
      ]
    },
    {
      "cell_type": "code",
      "execution_count": null,
      "id": "196fb837-7ee7-4e75-8351-8a386372ab8a",
      "metadata": {
        "colab": {
          "base_uri": "https://localhost:8080/"
        },
        "id": "196fb837-7ee7-4e75-8351-8a386372ab8a",
        "outputId": "8c207e0a-6370-4f74-8c30-c981c73db11a"
      },
      "outputs": [
        {
          "output_type": "stream",
          "name": "stdout",
          "text": [
            "Words grouped by length:\n",
            "Length 3: ['car', 'dog', 'eat']\n",
            "Length 4: ['book']\n",
            "Length 5: ['apple']\n",
            "Length 6: ['banana']\n"
          ]
        }
      ],
      "source": [
        "#  group words by their length from a list using a dictionary\n",
        "words = [\"apple\", \"car\", \"banana\", \"dog\", \"book\", \"eat\"]\n",
        "grouped = {}\n",
        "for word in words:\n",
        "    length = len(word)\n",
        "    if length in grouped:\n",
        "        grouped[length].append(word)\n",
        "    else:\n",
        "        grouped[length] = [word]\n",
        "print(\"Words grouped by length:\")\n",
        "for length in sorted(grouped):\n",
        "    print(f\"Length {length}: {grouped[length]}\")"
      ]
    },
    {
      "cell_type": "code",
      "execution_count": null,
      "id": "c3a349dd-3712-407a-bcee-efe6e86af328",
      "metadata": {
        "colab": {
          "base_uri": "https://localhost:8080/"
        },
        "id": "c3a349dd-3712-407a-bcee-efe6e86af328",
        "outputId": "90b16a78-995e-417f-b202-fdaac14659d1"
      },
      "outputs": [
        {
          "output_type": "stream",
          "name": "stdout",
          "text": [
            "Alice's average score:  93.33333333333333\n",
            "Bob's average score:  85.0\n",
            "Charlei's average score:  72.5\n"
          ]
        }
      ],
      "source": [
        "# build dictionary from tupels\n",
        "tuple = [(\"Alice\", 85),(\"Bob\", 90),(\"Alice\", 95),(\"Bob\", 80),(\"Charlei\",70),(\"Charlei\", 75),(\"Alice\", 100)]\n",
        "scores_dict = {}\n",
        "for name, score in tuple:\n",
        "    if name not in scores_dict:\n",
        "        scores_dict[name] = []\n",
        "    scores_dict[name].append(score)\n",
        "for name, scores in scores_dict.items():\n",
        "    average = sum(scores)/ len(scores)\n",
        "    print(f\"{name}'s average score: {average: }\")"
      ]
    },
    {
      "cell_type": "markdown",
      "id": "caaea9af-0d44-48da-b57e-8846e0bd34b2",
      "metadata": {
        "id": "caaea9af-0d44-48da-b57e-8846e0bd34b2"
      },
      "source": [
        "#### Assignment 5"
      ]
    },
    {
      "cell_type": "markdown",
      "id": "242f6e96-5c6b-4d5d-ad9e-82c9da16cfc8",
      "metadata": {
        "id": "242f6e96-5c6b-4d5d-ad9e-82c9da16cfc8"
      },
      "source": [
        "#### tuple() questions"
      ]
    },
    {
      "cell_type": "code",
      "execution_count": null,
      "id": "ba67416e-0f6c-46c9-90c9-f11149c16890",
      "metadata": {
        "colab": {
          "base_uri": "https://localhost:8080/"
        },
        "id": "ba67416e-0f6c-46c9-90c9-f11149c16890",
        "outputId": "c0f7ee96-5456-4d87-8ef8-78c622964f4e"
      },
      "outputs": [
        {
          "output_type": "stream",
          "name": "stdout",
          "text": [
            "(1, 'hello', 3.14, True, [1, 2, 3])\n",
            "<class 'tuple'>\n"
          ]
        }
      ],
      "source": [
        "# create a tuple and find type\n",
        "tuple = (1, \"hello\", 3.14, True, [1,2,3])\n",
        "print(tuple)\n",
        "print(type(tuple))"
      ]
    },
    {
      "cell_type": "code",
      "execution_count": null,
      "id": "bb911e20-a556-4d93-b020-02ca4cea57fd",
      "metadata": {
        "colab": {
          "base_uri": "https://localhost:8080/"
        },
        "id": "bb911e20-a556-4d93-b020-02ca4cea57fd",
        "outputId": "a690b945-b84c-4248-bd14-5b3093ed530d"
      },
      "outputs": [
        {
          "output_type": "stream",
          "name": "stdout",
          "text": [
            "40\n"
          ]
        }
      ],
      "source": [
        "# to print second last element\n",
        "t = (10,20, 30, 40, 50)\n",
        "print(t[-2])"
      ]
    },
    {
      "cell_type": "code",
      "execution_count": null,
      "id": "5d4d3ed8-7a8a-4c7b-9f45-0f906e1e97b7",
      "metadata": {
        "colab": {
          "base_uri": "https://localhost:8080/"
        },
        "id": "5d4d3ed8-7a8a-4c7b-9f45-0f906e1e97b7",
        "outputId": "a0f87933-8d3e-45ec-826e-d067caa72ded"
      },
      "outputs": [
        {
          "output_type": "stream",
          "name": "stdout",
          "text": [
            "Enter the element: 10\n",
            "The element 10 appears 3 times in tuple.\n"
          ]
        }
      ],
      "source": [
        "# count the number of times  a given element appears in a tuple\n",
        "tuple = (10, 20, 10, 30, 40, 10, 50)\n",
        "element = int(input(\"Enter the element: \"))\n",
        "count = tuple.count(element)\n",
        "print(f\"The element {element} appears {count} times in tuple.\")"
      ]
    },
    {
      "cell_type": "code",
      "execution_count": null,
      "id": "0401121e-bd4e-4eb3-bc98-5cc5eb0629bb",
      "metadata": {
        "colab": {
          "base_uri": "https://localhost:8080/"
        },
        "id": "0401121e-bd4e-4eb3-bc98-5cc5eb0629bb",
        "outputId": "4f194a3a-624a-40f5-cedb-bb99255cd3f8"
      },
      "outputs": [
        {
          "output_type": "stream",
          "name": "stdout",
          "text": [
            "The combined string is:  python is fun\n"
          ]
        }
      ],
      "source": [
        "# convert a tuple of strings into a single string\n",
        "tup_string = ('python', 'is', 'fun')\n",
        "x = \" \".join(tup_string)\n",
        "print(\"The combined string is: \", x)"
      ]
    },
    {
      "cell_type": "code",
      "execution_count": null,
      "id": "cd98ff80-9ac6-431b-b05a-f6f2b432d5d8",
      "metadata": {
        "colab": {
          "base_uri": "https://localhost:8080/"
        },
        "id": "cd98ff80-9ac6-431b-b05a-f6f2b432d5d8",
        "outputId": "4af0082e-831f-4c1f-c424-b71507ff06b8"
      },
      "outputs": [
        {
          "output_type": "stream",
          "name": "stdout",
          "text": [
            "Enter the element ti find its index: 40\n",
            "The index of 40 is: 3\n"
          ]
        }
      ],
      "source": [
        "#  find the index of an element in a tuple\n",
        "tup = (10, 20, 30, 40, 50, 60)\n",
        "element = int(input(\"Enter the element ti find its index: \"))\n",
        "if element in tup:\n",
        "    index = tup.index(element)\n",
        "    print(f\"The index of {element} is: {index}\")\n",
        "else:\n",
        "    print(\"The element not found in the tuple.\")"
      ]
    },
    {
      "cell_type": "markdown",
      "id": "dede30a0-4932-47ec-aa6f-341ccea158c8",
      "metadata": {
        "id": "dede30a0-4932-47ec-aa6f-341ccea158c8"
      },
      "source": [
        "#### set() questions"
      ]
    },
    {
      "cell_type": "code",
      "execution_count": null,
      "id": "0a9375cd-c123-4511-bb5e-371149ba1765",
      "metadata": {
        "colab": {
          "base_uri": "https://localhost:8080/"
        },
        "id": "0a9375cd-c123-4511-bb5e-371149ba1765",
        "outputId": "e6d2fbdb-35f3-4fb6-d7a7-07433c06882c"
      },
      "outputs": [
        {
          "output_type": "stream",
          "name": "stdout",
          "text": [
            "Set 1:  {1, 2, 3, 4.5, (5, 6), 'hey'}\n",
            "Set 2:  {'good', 1, 2, 4, 9}\n",
            "Union:  {1, 2, 3, 4.5, 4, 9, 'good', (5, 6), 'hey'}\n",
            "Intersection:  {1, 2}\n",
            "Differnce:  {3, 4.5, (5, 6), 'hey'}\n"
          ]
        }
      ],
      "source": [
        "# perform union, intersection, and difference operations on set\n",
        "set1 = {1,2,3,\"hey\",4.5,(5,6)}\n",
        "set2 = {4,1,2,\"good\",9}\n",
        "union = set1.union(set2)\n",
        "intersection = set1.intersection(set2)\n",
        "differnce = set1.difference(set2)\n",
        "print(\"Set 1: \", set1)\n",
        "print(\"Set 2: \", set2)\n",
        "print(\"Union: \", union)\n",
        "print(\"Intersection: \", intersection)\n",
        "print(\"Differnce: \", differnce)"
      ]
    },
    {
      "cell_type": "code",
      "execution_count": null,
      "id": "997a6af0-ba2a-4aad-ad23-763634413104",
      "metadata": {
        "colab": {
          "base_uri": "https://localhost:8080/"
        },
        "id": "997a6af0-ba2a-4aad-ad23-763634413104",
        "outputId": "502549b2-5844-4803-c227-ea50c9f2e7b8"
      },
      "outputs": [
        {
          "output_type": "stream",
          "name": "stdout",
          "text": [
            "Set 1:  {1, 2, 3, 4.5, (5, 6), 'hey'}\n",
            "Set 2:  {'good', 1, 2, 4, 9}\n",
            "Union:  {1, 2, 3, 4.5, 4, 9, 'good', (5, 6), 'hey'}\n",
            "Intersection:  {1, 2}\n",
            "Differnce:  {3, 4.5, (5, 6), 'hey'}\n"
          ]
        }
      ],
      "source": [
        "# or\n",
        "union = set1 | set2\n",
        "intersection = set1 & set2\n",
        "differnce = set1 - set2\n",
        "print(\"Set 1: \", set1)\n",
        "print(\"Set 2: \", set2)\n",
        "print(\"Union: \", union)\n",
        "print(\"Intersection: \", intersection)\n",
        "print(\"Differnce: \", differnce)"
      ]
    },
    {
      "cell_type": "code",
      "execution_count": null,
      "id": "8ed524fc-944b-430a-8841-95fd888572b2",
      "metadata": {
        "colab": {
          "base_uri": "https://localhost:8080/"
        },
        "id": "8ed524fc-944b-430a-8841-95fd888572b2",
        "outputId": "8dd1424d-1260-4139-e490-b7e845dabe17"
      },
      "outputs": [
        {
          "output_type": "stream",
          "name": "stdout",
          "text": [
            "Enter element to check: 20\n",
            "20 is present in the set.\n"
          ]
        }
      ],
      "source": [
        "# check element is present or not\n",
        "s = {10, 20, 40 ,50}\n",
        "element = int(input(\"Enter element to check: \"))\n",
        "if element in s:\n",
        "    print(f\"{element} is present in the set.\")\n",
        "else:\n",
        "    print(f\"{element} is not present in the set.\")"
      ]
    },
    {
      "cell_type": "code",
      "execution_count": null,
      "id": "de31df3e-99c3-4f7a-9ff6-03134faf0ce4",
      "metadata": {
        "colab": {
          "base_uri": "https://localhost:8080/"
        },
        "id": "de31df3e-99c3-4f7a-9ff6-03134faf0ce4",
        "outputId": "78d07a2a-4032-4a63-b485-ad14ee93c1e9"
      },
      "outputs": [
        {
          "output_type": "stream",
          "name": "stdout",
          "text": [
            "Set 1:  {1, 2, 3, 4, 5}\n",
            "Set 2:  {4, 5, 6, 7, 8}\n",
            "Symmetric Difference:  {1, 2, 3, 6, 7, 8}\n"
          ]
        }
      ],
      "source": [
        "# symmetric difference between two sets\n",
        "s1 = {1, 2, 3, 4, 5}\n",
        "s2 = {4, 5, 6, 7, 8}\n",
        "symm_diff = s1.symmetric_difference(s2)\n",
        "print(\"Set 1: \", s1)\n",
        "print(\"Set 2: \", s2)\n",
        "print(\"Symmetric Difference: \", symm_diff )"
      ]
    },
    {
      "cell_type": "code",
      "execution_count": null,
      "id": "b397a447-36fd-42d1-a8a0-b06c1b798b08",
      "metadata": {
        "colab": {
          "base_uri": "https://localhost:8080/"
        },
        "id": "b397a447-36fd-42d1-a8a0-b06c1b798b08",
        "outputId": "901866da-19aa-442c-897f-ea4a481b983b"
      },
      "outputs": [
        {
          "output_type": "stream",
          "name": "stdout",
          "text": [
            "Original list:  [10, 20, 10, 30, 40, 20, 50]\n",
            "List after remove duplicates:  [40, 10, 50, 20, 30]\n"
          ]
        }
      ],
      "source": [
        "# Remove duplicate elements from a list using a set\n",
        "list_1 = [10, 20, 10, 30, 40, 20, 50]\n",
        "unique_set = set(list_1)\n",
        "unique_list = list(unique_set)\n",
        "print(\"Original list: \", list_1)\n",
        "print(\"List after remove duplicates: \", unique_list)"
      ]
    },
    {
      "cell_type": "code",
      "execution_count": null,
      "id": "6c24c1ef-3d4d-4d67-a841-750cac7ef9bd",
      "metadata": {
        "colab": {
          "base_uri": "https://localhost:8080/"
        },
        "id": "6c24c1ef-3d4d-4d67-a841-750cac7ef9bd",
        "outputId": "470bdfcc-0039-4635-9a87-fb01182e85a2"
      },
      "outputs": [
        {
          "output_type": "stream",
          "name": "stdout",
          "text": [
            "Set 1:  {1, 2, 3, 4, 5}\n",
            "Set 2:  {4, 5, 6, 7, 8}\n",
            "Symmetric Difference:  {1, 2, 3, 6, 7, 8}\n"
          ]
        }
      ],
      "source": [
        "# or\n",
        "symm_diff = s1 ^ s2\n",
        "print(\"Set 1: \", s1)\n",
        "print(\"Set 2: \", s2)\n",
        "print(\"Symmetric Difference: \", symm_diff )"
      ]
    },
    {
      "cell_type": "code",
      "execution_count": null,
      "id": "126c9d3a-c251-4105-a0e1-781e8fd4c263",
      "metadata": {
        "colab": {
          "base_uri": "https://localhost:8080/"
        },
        "id": "126c9d3a-c251-4105-a0e1-781e8fd4c263",
        "outputId": "5e1ffb3e-f96f-432c-caeb-8d8a36cf5bbc"
      },
      "outputs": [
        {
          "output_type": "stream",
          "name": "stdout",
          "text": [
            "Original list:  [1, 2, 2, 3, 4, 4, 5, 5, 5, 5, 6]\n",
            "Unique elements:  {1, 2, 3, 4, 5, 6}\n"
          ]
        }
      ],
      "source": [
        "# find all unique elements using sets\n",
        "numbers = [1, 2, 2, 3, 4, 4, 5, 5, 5, 5, 6]\n",
        "unique = set(numbers)\n",
        "print(\"Original list: \", numbers)\n",
        "print(\"Unique elements: \", unique)"
      ]
    },
    {
      "cell_type": "markdown",
      "id": "fd2841f0-424c-44c3-b0fd-c65f774d8bd2",
      "metadata": {
        "id": "fd2841f0-424c-44c3-b0fd-c65f774d8bd2"
      },
      "source": [
        "#### Assignment 6"
      ]
    },
    {
      "cell_type": "code",
      "execution_count": null,
      "id": "b296f0b2-369c-4847-a8a5-b625168a1115",
      "metadata": {
        "colab": {
          "base_uri": "https://localhost:8080/"
        },
        "id": "b296f0b2-369c-4847-a8a5-b625168a1115",
        "outputId": "5c0539f0-d369-47b0-a64a-cdebab3a4e06"
      },
      "outputs": [
        {
          "output_type": "stream",
          "name": "stdout",
          "text": [
            "Factorial of 5 is 120\n"
          ]
        }
      ],
      "source": [
        "# create a function() to find factorial\n",
        "def fact(n):\n",
        "    if n < 0:\n",
        "        return \"Factorial is not defined for negative numbers\"\n",
        "    result = 1\n",
        "    for i in range(2, n + 1):\n",
        "        result *= i\n",
        "    return result\n",
        "n = 5\n",
        "print(\"Factorial of\", n, \"is\", fact(n))"
      ]
    },
    {
      "cell_type": "code",
      "execution_count": null,
      "id": "39df7998-4758-4e8d-b03e-96609637efcc",
      "metadata": {
        "colab": {
          "base_uri": "https://localhost:8080/"
        },
        "id": "39df7998-4758-4e8d-b03e-96609637efcc",
        "outputId": "93e9a943-d3fd-4c62-a0c6-f8a1d5f4df31"
      },
      "outputs": [
        {
          "output_type": "stream",
          "name": "stdout",
          "text": [
            "7 is a prime number.\n"
          ]
        }
      ],
      "source": [
        "# check no. is prime or not\n",
        "def is_prime(n):\n",
        "    if n <= 1:\n",
        "        return False\n",
        "    for i in range(2, n):\n",
        "        if n % i == 0:\n",
        "            return False\n",
        "    return True\n",
        "num = 7\n",
        "if is_prime(num):\n",
        "    print(num, \"is a prime number.\")\n",
        "else:\n",
        "    print(num, \"is not a prime number.\")"
      ]
    },
    {
      "cell_type": "code",
      "execution_count": null,
      "id": "a494d337-209b-4254-a095-0cf71cd6409f",
      "metadata": {
        "colab": {
          "base_uri": "https://localhost:8080/"
        },
        "id": "a494d337-209b-4254-a095-0cf71cd6409f",
        "outputId": "373985ce-de92-47cf-f927-7befc561c202"
      },
      "outputs": [
        {
          "output_type": "stream",
          "name": "stdout",
          "text": [
            "Number of vowels: 3\n"
          ]
        }
      ],
      "source": [
        "# takes a string as input and returns the number of vowels in it\n",
        "def count_vowels(string):\n",
        "    vowels = \"aeiouAEIOU\"\n",
        "    count = 0\n",
        "    for char in string:\n",
        "        if char in vowels:\n",
        "            count += 1\n",
        "    return count\n",
        "input_string = \"Hello World\"\n",
        "print(\"Number of vowels:\", count_vowels(input_string))"
      ]
    },
    {
      "cell_type": "code",
      "execution_count": null,
      "id": "caf07a75-03c3-4e1a-9511-77b5315b3df6",
      "metadata": {
        "colab": {
          "base_uri": "https://localhost:8080/"
        },
        "id": "caf07a75-03c3-4e1a-9511-77b5315b3df6",
        "outputId": "36ba9a6b-177c-4014-ae16-43a810332763"
      },
      "outputs": [
        {
          "output_type": "stream",
          "name": "stdout",
          "text": [
            "Maximum: 9\n",
            "Minimum: 1\n"
          ]
        }
      ],
      "source": [
        "# maximum and minimum values find\n",
        "def find_max_min(numbers):\n",
        "    return max(numbers), min(numbers)\n",
        "num_list = [4, 9, 1, 7, 3]\n",
        "maximum, minimum = find_max_min(num_list)\n",
        "print(\"Maximum:\", maximum)\n",
        "print(\"Minimum:\", minimum)"
      ]
    },
    {
      "cell_type": "code",
      "execution_count": null,
      "id": "5d08e5aa-d28b-41c0-a698-980f11c2491f",
      "metadata": {
        "colab": {
          "base_uri": "https://localhost:8080/"
        },
        "id": "5d08e5aa-d28b-41c0-a698-980f11c2491f",
        "outputId": "8e220498-0d18-46fd-848a-9cc224c4b88f"
      },
      "outputs": [
        {
          "output_type": "stream",
          "name": "stdout",
          "text": [
            "Fibonacci number at position 7 is 8\n"
          ]
        }
      ],
      "source": [
        "# calculate the nth Fibonacci number\n",
        "def fibonacci(n):\n",
        "    if n <= 0:\n",
        "        return \"Invalid input\"\n",
        "    elif n == 1:\n",
        "        return 0\n",
        "    elif n == 2:\n",
        "        return 1\n",
        "    a, b = 0, 1\n",
        "    for _ in range(2, n):\n",
        "        a, b = b, a + b\n",
        "    return b\n",
        "num = 7\n",
        "print(\"Fibonacci number at position\", num, \"is\", fibonacci(num))"
      ]
    },
    {
      "cell_type": "code",
      "execution_count": null,
      "id": "bef3fc14-dc68-44a3-9dbc-dc1c42c9dfab",
      "metadata": {
        "colab": {
          "base_uri": "https://localhost:8080/"
        },
        "id": "bef3fc14-dc68-44a3-9dbc-dc1c42c9dfab",
        "outputId": "7cb0c8af-2c43-4a6f-ccca-b4a3c856eb8b"
      },
      "outputs": [
        {
          "output_type": "stream",
          "name": "stdout",
          "text": [
            "GCD of 36 and 60 is 12\n"
          ]
        }
      ],
      "source": [
        "# accepts two numbers and returns their greatest common divisor (GCD)\n",
        "def find_gcd(a, b):\n",
        "    while b != 0:\n",
        "        a, b = b, a % b\n",
        "    return a\n",
        "num1 = 36\n",
        "num2 = 60\n",
        "print(\"GCD of\", num1, \"and\", num2, \"is\", find_gcd(num1, num2))"
      ]
    },
    {
      "cell_type": "code",
      "execution_count": null,
      "id": "d6f3f267-09a0-4b9a-a553-7536dbaed0b9",
      "metadata": {
        "colab": {
          "base_uri": "https://localhost:8080/"
        },
        "id": "d6f3f267-09a0-4b9a-a553-7536dbaed0b9",
        "outputId": "786cc8e9-e6e4-44e5-cbaf-4e26201393da"
      },
      "outputs": [
        {
          "output_type": "stream",
          "name": "stdout",
          "text": [
            "Unique elements: [1, 2, 3, 4, 5]\n"
          ]
        }
      ],
      "source": [
        "# takes a list and returns a new list with only unique elements\n",
        "def unique_elements(lst):\n",
        "    unique = []\n",
        "    for item in lst:\n",
        "        if item not in unique:\n",
        "            unique.append(item)\n",
        "    return unique\n",
        "my_list = [1, 2, 2, 3, 4, 4, 5]\n",
        "print(\"Unique elements:\", unique_elements(my_list))"
      ]
    },
    {
      "cell_type": "code",
      "execution_count": null,
      "id": "d432a9c2-bf72-44ca-abcd-4b2c8078d962",
      "metadata": {
        "colab": {
          "base_uri": "https://localhost:8080/"
        },
        "id": "d432a9c2-bf72-44ca-abcd-4b2c8078d962",
        "outputId": "32c058a2-cd2f-4b6b-f661-37edd0072bb7"
      },
      "outputs": [
        {
          "output_type": "stream",
          "name": "stdout",
          "text": [
            "Word frequencies: {'hello': 2, 'world': 3}\n"
          ]
        }
      ],
      "source": [
        "# count the frequency of each word in a given string\n",
        "def count_word_frequency(text):\n",
        "    words = text.split()\n",
        "    frequency = {}\n",
        "    for word in words:\n",
        "        if word in frequency:\n",
        "            frequency[word] += 1\n",
        "        else:\n",
        "            frequency[word] = 1\n",
        "    return frequency\n",
        "input_text = \"hello world hello world world\"\n",
        "result = count_word_frequency(input_text)\n",
        "print(\"Word frequencies:\", result)"
      ]
    },
    {
      "cell_type": "code",
      "execution_count": null,
      "id": "15931a3e-2b2c-4b01-92e9-b077da7ccf33",
      "metadata": {
        "colab": {
          "base_uri": "https://localhost:8080/"
        },
        "id": "15931a3e-2b2c-4b01-92e9-b077da7ccf33",
        "outputId": "0c37b60c-4909-4a5d-9539-efec65a456fd"
      },
      "outputs": [
        {
          "output_type": "stream",
          "name": "stdout",
          "text": [
            "Is palindrome? True\n"
          ]
        }
      ],
      "source": [
        "# takes a number and returns True if it is a palindrome, otherwise False\n",
        "def is_palindrome(num):\n",
        "    num_str = str(num)\n",
        "    return num_str == num_str[::-1]\n",
        "number = 121\n",
        "print(\"Is palindrome?\", is_palindrome(number))"
      ]
    },
    {
      "cell_type": "code",
      "execution_count": null,
      "id": "0578c21b-690d-4b83-abed-a42e1d394411",
      "metadata": {
        "colab": {
          "base_uri": "https://localhost:8080/"
        },
        "id": "0578c21b-690d-4b83-abed-a42e1d394411",
        "outputId": "e3b1d5b7-4473-4892-f134-59063025ea1b"
      },
      "outputs": [
        {
          "output_type": "stream",
          "name": "stdout",
          "text": [
            "Temperature in Fahrenheit: 77.0\n"
          ]
        }
      ],
      "source": [
        "# Create a function that takes a temperature in Celsius and returns it in Fahrenheit\n",
        "def celsius_to_fahrenheit(celsius):\n",
        "    fahrenheit = (celsius * 9/5) + 32\n",
        "    return fahrenheit\n",
        "temp_c = 25\n",
        "print(\"Temperature in Fahrenheit:\", celsius_to_fahrenheit(temp_c))"
      ]
    },
    {
      "cell_type": "markdown",
      "id": "ec0c4f56-579e-4066-a9fa-1eb35ba7839b",
      "metadata": {
        "id": "ec0c4f56-579e-4066-a9fa-1eb35ba7839b"
      },
      "source": [
        "#### Assignment 7"
      ]
    },
    {
      "cell_type": "code",
      "execution_count": null,
      "id": "6f4a491a-5fe9-4f09-8ad5-9a30db2747c5",
      "metadata": {
        "colab": {
          "base_uri": "https://localhost:8080/"
        },
        "id": "6f4a491a-5fe9-4f09-8ad5-9a30db2747c5",
        "outputId": "471afdf0-3a94-4421-e468-d002c3032031"
      },
      "outputs": [
        {
          "output_type": "stream",
          "name": "stdout",
          "text": [
            "Largest element: 70\n"
          ]
        }
      ],
      "source": [
        "# find largest element in list without  using max()\n",
        "list1 = [34, 56, 70, 67, 50]\n",
        "largest = list1[0]\n",
        "for x in list1:\n",
        "    if x > largest:\n",
        "        largest = x\n",
        "print(\"Largest element:\", largest)"
      ]
    },
    {
      "cell_type": "code",
      "execution_count": null,
      "id": "3e09306d-0a22-4b2d-9799-11189804be4f",
      "metadata": {
        "colab": {
          "base_uri": "https://localhost:8080/"
        },
        "id": "3e09306d-0a22-4b2d-9799-11189804be4f",
        "outputId": "7cf76e57-94fb-46de-b36c-37af23bab9aa"
      },
      "outputs": [
        {
          "output_type": "stream",
          "name": "stdout",
          "text": [
            "smallest element: 34\n"
          ]
        }
      ],
      "source": [
        "# find smallest element in list without  using min()\n",
        "list1 = [34, 56, 70, 67, 50]\n",
        "smallest = list1[0]\n",
        "for x in list1:\n",
        "    if x < smallest:\n",
        "        smallest = x\n",
        "print(\"smallest element:\",smallest)"
      ]
    },
    {
      "cell_type": "code",
      "execution_count": null,
      "id": "fe8e3573-7dc8-426c-809d-9ba72b49732f",
      "metadata": {
        "colab": {
          "base_uri": "https://localhost:8080/"
        },
        "id": "fe8e3573-7dc8-426c-809d-9ba72b49732f",
        "outputId": "e5c4984f-5902-42ec-8293-a134557d21b5"
      },
      "outputs": [
        {
          "output_type": "stream",
          "name": "stdout",
          "text": [
            "Mean is:  4.833333333333333\n"
          ]
        }
      ],
      "source": [
        "# find mean of elements in list\n",
        "import statistics\n",
        "data = [1,3,4,5,7,9]\n",
        "x = statistics.mean(data)\n",
        "print(\"Mean is: \", x)"
      ]
    },
    {
      "cell_type": "code",
      "execution_count": null,
      "id": "4718e420-714d-4383-98f1-b5290aede0ee",
      "metadata": {
        "colab": {
          "base_uri": "https://localhost:8080/"
        },
        "id": "4718e420-714d-4383-98f1-b5290aede0ee",
        "outputId": "567bf8d9-98ec-4547-bb44-5c51523c966c"
      },
      "outputs": [
        {
          "output_type": "stream",
          "name": "stdout",
          "text": [
            "The average is =  17.2\n"
          ]
        }
      ],
      "source": [
        "# find mean of elements in list without using mean function\n",
        "list1= [10, 22, 3, 46, 5]\n",
        "sum_num = 0\n",
        "for t in list1:\n",
        "    sum_num = sum_num + t\n",
        "    avg= sum_num/len(list1)\n",
        "print(\"The average is = \", avg)"
      ]
    },
    {
      "cell_type": "code",
      "execution_count": null,
      "id": "34233186-4dc3-4bec-bab3-97d450f7380e",
      "metadata": {
        "colab": {
          "base_uri": "https://localhost:8080/"
        },
        "id": "34233186-4dc3-4bec-bab3-97d450f7380e",
        "outputId": "0ae49863-de9a-4cca-c2d7-4485bbe78052"
      },
      "outputs": [
        {
          "output_type": "stream",
          "name": "stdout",
          "text": [
            "Enter an element to search In List: 46\n",
            "element found at index 3\n"
          ]
        }
      ],
      "source": [
        "# Find element in a list through Iinear search\n",
        "x = int(input (\"Enter an element to search In List: \"))\n",
        "list1= [10, 22, 3, 46, 5]\n",
        "for i in range( len(list1)):\n",
        "   if list1[i] == x:\n",
        "     print(\"element found at index \" + str(i))\n",
        "     break\n",
        "else:\n",
        "   print(\"Element not found in list\")"
      ]
    },
    {
      "cell_type": "code",
      "execution_count": null,
      "id": "77758666-677c-4aa2-a392-ed264359c92e",
      "metadata": {
        "colab": {
          "base_uri": "https://localhost:8080/"
        },
        "id": "77758666-677c-4aa2-a392-ed264359c92e",
        "outputId": "7b4a2151-152d-4b63-c861-bae3c162fe78"
      },
      "outputs": [
        {
          "output_type": "stream",
          "name": "stdout",
          "text": [
            "1: 2\n",
            "7: 2\n",
            "5: 2\n",
            "3: 3\n",
            "4: 6\n",
            "2: 2\n"
          ]
        }
      ],
      "source": [
        "# Count the frequency of elements in a list using dictionary\n",
        "list = [1,1,7,5,5,3,7,3,3,4,4,4,4,4,2,4,2]\n",
        "d = {}\n",
        "for item in list:\n",
        "    if item in d:\n",
        "        d[item] += 1\n",
        "    else:\n",
        "        d[item] = 1\n",
        "for key, value in d.items():\n",
        "    print(\"%d: %d\" % (key, value))"
      ]
    },
    {
      "cell_type": "markdown",
      "id": "5d8572ae-24b0-4ad8-8ba5-24cf634a687b",
      "metadata": {
        "id": "5d8572ae-24b0-4ad8-8ba5-24cf634a687b"
      },
      "source": [
        "#### Assignment 8"
      ]
    },
    {
      "cell_type": "code",
      "execution_count": null,
      "id": "3f874a1a-c57c-4e4a-bf77-463003addc51",
      "metadata": {
        "colab": {
          "base_uri": "https://localhost:8080/"
        },
        "id": "3f874a1a-c57c-4e4a-bf77-463003addc51",
        "outputId": "72fcd49b-18b2-4eaf-f4c6-ab8ddc1409ce"
      },
      "outputs": [
        {
          "output_type": "stream",
          "name": "stdout",
          "text": [
            "example.txt\n"
          ]
        }
      ],
      "source": [
        "# create a new text file and write the text 'Hello, File Handling!' to it\n",
        "f = open('example.txt' , 'w')\n",
        "print(f.name)\n",
        "f.close()\n",
        "f.mode\n",
        "with open('example.txt', 'w')as f:\n",
        "    f.write('Hello, File Handling!')"
      ]
    },
    {
      "cell_type": "code",
      "execution_count": null,
      "id": "47fd47ac-4bc9-48b0-92fa-80e6d17ce69a",
      "metadata": {
        "colab": {
          "base_uri": "https://localhost:8080/"
        },
        "id": "47fd47ac-4bc9-48b0-92fa-80e6d17ce69a",
        "outputId": "91829f0e-c745-41f0-f0e3-b0def7f27187"
      },
      "outputs": [
        {
          "output_type": "stream",
          "name": "stdout",
          "text": [
            "Hello, File Handling!\n",
            "abc.txt\n"
          ]
        }
      ],
      "source": [
        "# read the contents of 'example.txt' and display them on the screen\n",
        "with open('example.txt', 'r')as f:\n",
        "    f_contents = f.read()\n",
        "    print( f_contents)\n",
        "    f = open('abc.txt' , 'w')\n",
        "print(f.name)\n",
        "f.close()\n",
        "with open('abc.txt', 'w')as f:\n",
        "    f.write('Apple is a fruit.Banana is yellow.Ants are tiny.Zebra is an animal.A cat is cute.')"
      ]
    },
    {
      "cell_type": "code",
      "execution_count": null,
      "id": "eee438f7-8914-4175-8c1a-d262e0364c56",
      "metadata": {
        "colab": {
          "base_uri": "https://localhost:8080/"
        },
        "id": "eee438f7-8914-4175-8c1a-d262e0364c56",
        "outputId": "001335e3-096d-4b12-997d-df26399fbfb6"
      },
      "outputs": [
        {
          "output_type": "stream",
          "name": "stdout",
          "text": [
            "Apple is a fruit.Banana is yellow.Ants are tiny.Zebra is an animal.A cat is cute.\n"
          ]
        }
      ],
      "source": [
        "#  read a file and print only those lines which start with the letter 'A'\n",
        "with open(\"abc.txt\", \"r\") as file:\n",
        "    for line in file:\n",
        "        if line.startswith(\"A\"):\n",
        "            print(line.strip())"
      ]
    },
    {
      "cell_type": "code",
      "execution_count": null,
      "id": "ce6d6340-67c2-4a5f-a9a6-3bfd122351d8",
      "metadata": {
        "colab": {
          "base_uri": "https://localhost:8080/"
        },
        "id": "ce6d6340-67c2-4a5f-a9a6-3bfd122351d8",
        "outputId": "04cc41b4-a1fc-488f-f5d6-2dc636a33715"
      },
      "outputs": [
        {
          "output_type": "stream",
          "name": "stdout",
          "text": [
            "Number of words in the file: 3\n"
          ]
        }
      ],
      "source": [
        "#  count the number of words in a given text file\n",
        "with open(\"example.txt\", \"r\") as file:\n",
        "    content = file.read()\n",
        "    words = content.split()\n",
        "    word_count = len(words)\n",
        "print(\"Number of words in the file:\", word_count)"
      ]
    },
    {
      "cell_type": "code",
      "execution_count": null,
      "id": "2837031e-a321-42d6-847b-2397a033f43d",
      "metadata": {
        "colab": {
          "base_uri": "https://localhost:8080/"
        },
        "id": "2837031e-a321-42d6-847b-2397a033f43d",
        "outputId": "b8fd775c-79b5-48a6-beae-7a63db7a5f82"
      },
      "outputs": [
        {
          "output_type": "stream",
          "name": "stdout",
          "text": [
            "Files merged successfully into 'merged_file.txt'.\n"
          ]
        }
      ],
      "source": [
        "# merge the contents of two files into a third file\n",
        "with open(\"abc.txt\", \"r\") as file1:\n",
        "    content1 = file1.read()\n",
        "with open(\"example.txt\", \"r\") as file2:\n",
        "    content2 = file2.read()\n",
        "with open(\"merged_file.txt\", \"w\") as merged_file:\n",
        "    merged_file.write(content1 + \"\\n\" + content2)\n",
        "print(\"Files merged successfully into 'merged_file.txt'.\")"
      ]
    },
    {
      "cell_type": "code",
      "execution_count": null,
      "id": "94e2ba4d-57c5-4e67-a1dd-0e864d1cbea6",
      "metadata": {
        "colab": {
          "base_uri": "https://localhost:8080/"
        },
        "id": "94e2ba4d-57c5-4e67-a1dd-0e864d1cbea6",
        "outputId": "a4a2dbb7-3397-48ff-d72a-b2f109fc2bcb"
      },
      "outputs": [
        {
          "output_type": "stream",
          "name": "stdout",
          "text": [
            "Apple is a fruit.Banana is yellow.Ants are tiny.Zebra is an animal.A cat is cute.\n"
          ]
        }
      ],
      "source": [
        "# reads a text file and prints its content in reverse order (last line first)\n",
        "with open(\"abc.txt\", \"r\") as file:\n",
        "    lines = file.readlines()\n",
        "reversed_lines = lines[::-1]\n",
        "for line in reversed_lines:\n",
        "    print(line.strip())"
      ]
    },
    {
      "cell_type": "code",
      "execution_count": null,
      "id": "bf935781-a7db-4fe0-ad67-1571e5c29322",
      "metadata": {
        "colab": {
          "base_uri": "https://localhost:8080/"
        },
        "id": "bf935781-a7db-4fe0-ad67-1571e5c29322",
        "outputId": "25bbbbcb-d104-4ec6-8222-5154005fc0e0"
      },
      "outputs": [
        {
          "output_type": "stream",
          "name": "stdout",
          "text": [
            "Word replaced successfully.\n"
          ]
        }
      ],
      "source": [
        "# find and replace a word in a file (e.g., replace 'old' with 'new').\n",
        "with open(\"example.txt\", \"r\") as file:\n",
        "    content = file.read()\n",
        "updated_content = content.replace(\"old\", \"new\")\n",
        "with open(\"example.txt\", \"w\") as file:\n",
        "    file.write(updated_content)\n",
        "print(\"Word replaced successfully.\")"
      ]
    },
    {
      "cell_type": "code",
      "execution_count": null,
      "id": "ab0ab424-bbd4-4ca2-af4e-e9cd57a4b1ab",
      "metadata": {
        "colab": {
          "base_uri": "https://localhost:8080/"
        },
        "id": "ab0ab424-bbd4-4ca2-af4e-e9cd57a4b1ab",
        "outputId": "5b549b81-4e74-465f-ff04-4a2fddba707b"
      },
      "outputs": [
        {
          "output_type": "stream",
          "name": "stdout",
          "text": [
            "Timestamp added to log file.\n"
          ]
        }
      ],
      "source": [
        "#  create a log file and append timestamps whenever the program is run\n",
        "from datetime import datetime\n",
        "current_time = datetime.now()\n",
        "timestamp = current_time.strftime(\"%Y-%m-%d %H:%M:%S\")\n",
        "with open(\"log.txt\", \"a\") as log_file:\n",
        "    log_file.write(f\"Program run at: {timestamp}\\n\")\n",
        "print(\"Timestamp added to log file.\")"
      ]
    },
    {
      "cell_type": "code",
      "execution_count": null,
      "id": "162758cf-6c8f-4a06-a81a-1d9964a9848d",
      "metadata": {
        "colab": {
          "base_uri": "https://localhost:8080/"
        },
        "id": "162758cf-6c8f-4a06-a81a-1d9964a9848d",
        "outputId": "84ed1250-3e7f-4fb7-9a0a-046904ebb7f9"
      },
      "outputs": [
        {
          "output_type": "stream",
          "name": "stdout",
          "text": [
            "Student records saved to file.\n",
            "\n",
            "Stored Student Records:\n",
            "Name: Alice, Marks: 85\n",
            "Name: Bob, Marks: 90\n",
            "Name: Charlie, Marks: 78\n"
          ]
        }
      ],
      "source": [
        "# store and read student records (name and marks) from a file\n",
        "with open(\"students.txt\", \"w\") as file:\n",
        "    students = [\n",
        "        (\"Alice\", 85),\n",
        "        (\"Bob\", 90),\n",
        "        (\"Charlie\", 78)\n",
        "    ]\n",
        "    for name, marks in students:\n",
        "        file.write(f\"{name},{marks}\\n\")\n",
        "print(\"Student records saved to file.\")\n",
        "with open(\"students.txt\", \"r\") as file:\n",
        "    print(\"\\nStored Student Records:\")\n",
        "    for line in file:\n",
        "        name, marks = line.strip().split(\",\")\n",
        "        print(f\"Name: {name}, Marks: {marks}\")"
      ]
    },
    {
      "cell_type": "code",
      "source": [
        "with open('P69HiN.webp' , 'rb') as f:\n",
        "    pass"
      ],
      "metadata": {
        "id": "Ga-y3KKGye0T"
      },
      "id": "Ga-y3KKGye0T",
      "execution_count": null,
      "outputs": []
    },
    {
      "cell_type": "code",
      "source": [
        "# copy an image file (binary mode) from one location to another\n",
        "with open('P69HiN.webp', 'rb')as rf:\n",
        "    with open('image_copy.jpg' , 'wb')as wf:\n",
        "        for line in rf:\n",
        "            wf.write(line)\n",
        "print(\"Image copied successfully.\")"
      ],
      "metadata": {
        "colab": {
          "base_uri": "https://localhost:8080/"
        },
        "id": "ajTLGxKyz0Mz",
        "outputId": "bffec841-fc3c-4b6c-8de9-b35b8e51192f"
      },
      "id": "ajTLGxKyz0Mz",
      "execution_count": null,
      "outputs": [
        {
          "output_type": "stream",
          "name": "stdout",
          "text": [
            "Image copied successfully.\n"
          ]
        }
      ]
    },
    {
      "cell_type": "markdown",
      "source": [
        "Assignment 9"
      ],
      "metadata": {
        "id": "aTKDrbWtnt9T"
      },
      "id": "aTKDrbWtnt9T"
    },
    {
      "cell_type": "code",
      "source": [
        "!pip install numpy\n",
        "import numpy\n",
        "print(numpy.__version__)"
      ],
      "metadata": {
        "colab": {
          "base_uri": "https://localhost:8080/"
        },
        "id": "rVRWyAvvoFVO",
        "outputId": "fae554aa-a981-42c2-8bfa-f776ec647a59"
      },
      "id": "rVRWyAvvoFVO",
      "execution_count": null,
      "outputs": [
        {
          "output_type": "stream",
          "name": "stdout",
          "text": [
            "Requirement already satisfied: numpy in /usr/local/lib/python3.11/dist-packages (2.0.2)\n",
            "2.0.2\n"
          ]
        }
      ]
    },
    {
      "cell_type": "code",
      "source": [
        "# Create a NumPy array with values from 1 to 10. Print the shape, dimension, and data type of the array\n",
        "import numpy as np\n",
        "arr = np.arange(1,11)\n",
        "print(\"Array:\", arr)\n",
        "print(\"Shape:\", arr.shape)\n",
        "print(\"Dimension:\", arr.ndim)\n",
        "print(\"Data Type:\", arr.dtype)"
      ],
      "metadata": {
        "colab": {
          "base_uri": "https://localhost:8080/"
        },
        "id": "8YpFloPin5D0",
        "outputId": "d073fe3a-54de-428e-de80-0ae6a7f1b3ce"
      },
      "id": "8YpFloPin5D0",
      "execution_count": null,
      "outputs": [
        {
          "output_type": "stream",
          "name": "stdout",
          "text": [
            "Array: [ 1  2  3  4  5  6  7  8  9 10]\n",
            "Shape: (10,)\n",
            "Dimension: 1\n",
            "Data Type: int64\n"
          ]
        }
      ]
    },
    {
      "cell_type": "code",
      "source": [
        "#  3x3 NumPy array of all zeros and another of all ones. Then create a 3x3 identity matrix\n",
        "zeros_arr = np.zeros((3,3))\n",
        "print(\"Zeroes Array: \\n\", zeros_arr)\n",
        "ones_arr = np.ones((3,3))\n",
        "print(\"\\nOnes Array: \\n\", ones_arr)\n",
        "identity_matrix = np.eye(3)\n",
        "print(\"\\nIdentity matrix: \\n\", identity_matrix)"
      ],
      "metadata": {
        "colab": {
          "base_uri": "https://localhost:8080/"
        },
        "id": "-6sm63pbpNmv",
        "outputId": "95927104-e300-4423-945d-5691bf21a547"
      },
      "id": "-6sm63pbpNmv",
      "execution_count": null,
      "outputs": [
        {
          "output_type": "stream",
          "name": "stdout",
          "text": [
            "Zeroes Array: \n",
            " [[0. 0. 0.]\n",
            " [0. 0. 0.]\n",
            " [0. 0. 0.]]\n",
            "\n",
            "Ones Array: \n",
            " [[1. 1. 1.]\n",
            " [1. 1. 1.]\n",
            " [1. 1. 1.]]\n",
            "\n",
            "Identity matrix: \n",
            " [[1. 0. 0.]\n",
            " [0. 1. 0.]\n",
            " [0. 0. 1.]]\n"
          ]
        }
      ]
    },
    {
      "cell_type": "code",
      "source": [
        "#  15 random integers between 10 and 100 using np.random.randint. Reshape it into a 3x5 matrix and print it.\n",
        "random_arr = np.random.randint(10, 101, size=15)\n",
        "print(\"Random Array: \\n\", random_arr)\n",
        "matrix_3x5 = random_arr.reshape(3, 5)\n",
        "print(\"3x5 Random Integer Matrix:\\n\", matrix_3x5)"
      ],
      "metadata": {
        "colab": {
          "base_uri": "https://localhost:8080/"
        },
        "id": "cdIaRHgDrFMF",
        "outputId": "fc6cd1dc-a03e-47f4-8090-941f9e5b8ec8"
      },
      "id": "cdIaRHgDrFMF",
      "execution_count": null,
      "outputs": [
        {
          "output_type": "stream",
          "name": "stdout",
          "text": [
            "Random Array: \n",
            " [47 61 67 96 94 30 38 64 73 13 16 17 16 67 87]\n",
            "3x5 Random Integer Matrix:\n",
            " [[47 61 67 96 94]\n",
            " [30 38 64 73 13]\n",
            " [16 17 16 67 87]]\n"
          ]
        }
      ]
    },
    {
      "cell_type": "code",
      "source": [
        "# array from 1 to 20. Extract every 3rd element starting from index 1 using slicing\n",
        "arr = np.arange(1,21)\n",
        "print(\"Array:\", arr)\n",
        "sliced_arr = arr[1::3]\n",
        "print(\"Sliced Array:\", sliced_arr)"
      ],
      "metadata": {
        "colab": {
          "base_uri": "https://localhost:8080/"
        },
        "id": "Tc39AupBxwQN",
        "outputId": "fe9f2ad3-a18d-463f-ac59-e77b157c5543"
      },
      "id": "Tc39AupBxwQN",
      "execution_count": null,
      "outputs": [
        {
          "output_type": "stream",
          "name": "stdout",
          "text": [
            "Array: [ 1  2  3  4  5  6  7  8  9 10 11 12 13 14 15 16 17 18 19 20]\n",
            "Sliced Array: [ 2  5  8 11 14 17 20]\n"
          ]
        }
      ]
    },
    {
      "cell_type": "code",
      "source": [
        "# two arrays. Perform element-wise addition, multiplication, and compare which elements in a are greater than in b.\n",
        "a = np.array([2, 4, 6, 8])\n",
        "b = np.array([1, 3, 5, 7])\n",
        "addition = a + b\n",
        "multiplication = a * b\n",
        "comparison = a > b\n",
        "print(\"Array a:\", a)\n",
        "print(\"Array b:\", b)\n",
        "print(\"Addition:\", addition)\n",
        "print(\"Multiplication:\", multiplication)\n",
        "print(\"Comparison (a > b):\", comparison)"
      ],
      "metadata": {
        "colab": {
          "base_uri": "https://localhost:8080/"
        },
        "id": "N4_5C18csMrN",
        "outputId": "1e881c35-a577-4558-c9ce-b8831c487c5f"
      },
      "id": "N4_5C18csMrN",
      "execution_count": null,
      "outputs": [
        {
          "output_type": "stream",
          "name": "stdout",
          "text": [
            "Array a: [2 4 6 8]\n",
            "Array b: [1 3 5 7]\n",
            "Addition: [ 3  7 11 15]\n",
            "Multiplication: [ 2 12 30 56]\n",
            "Comparison (a > b): [ True  True  True  True]\n"
          ]
        }
      ]
    },
    {
      "cell_type": "code",
      "source": [
        "# Find the mean, median, standard deviation, min, and max\n",
        "arr = np.random.rand(20)\n",
        "print(\"Array:\", arr)\n",
        "print(\"Mean:\", np.mean(arr))\n",
        "print(\"Median:\", np.median(arr))\n",
        "print(\"Standard Deviation:\", np.std(arr))\n",
        "print(\"Minimum:\", np.min(arr))\n",
        "print(\"Maximum:\", np.max(arr))"
      ],
      "metadata": {
        "colab": {
          "base_uri": "https://localhost:8080/"
        },
        "id": "w3QKJyh3tnnu",
        "outputId": "af6b1356-b97b-477d-8fea-b5606222599a"
      },
      "id": "w3QKJyh3tnnu",
      "execution_count": null,
      "outputs": [
        {
          "output_type": "stream",
          "name": "stdout",
          "text": [
            "Array: [0.38535776 0.18327999 0.15165965 0.39512604 0.4349299  0.67772613\n",
            " 0.00576205 0.99771395 0.02997491 0.53226012 0.60105342 0.52550608\n",
            " 0.96935183 0.67890785 0.64589274 0.13414495 0.63201217 0.09912209\n",
            " 0.82978035 0.4496469 ]\n",
            "Mean: 0.46796044467604736\n",
            "Median: 0.4875764898811846\n",
            "Standard Deviation: 0.2900651270309701\n",
            "Minimum: 0.005762054554317997\n",
            "Maximum: 0.9977139476504292\n"
          ]
        }
      ]
    },
    {
      "cell_type": "code",
      "source": [
        "# Find the sum across rows and columns using axis\n",
        "arr = np.array([[3, 5], [7, 9]])\n",
        "sum_rows = np.sum(arr, axis=1)\n",
        "sum_columns = np.sum(arr, axis=0)\n",
        "print(\"Array:\\n\", arr)\n",
        "print(\"Sum Across Rows:\", sum_rows)\n",
        "print(\"Sum Across Columns:\", sum_columns)"
      ],
      "metadata": {
        "colab": {
          "base_uri": "https://localhost:8080/"
        },
        "id": "0Tf4G0vKtCxl",
        "outputId": "4d183467-43c5-47af-b486-0ef52eb381e3"
      },
      "id": "0Tf4G0vKtCxl",
      "execution_count": null,
      "outputs": [
        {
          "output_type": "stream",
          "name": "stdout",
          "text": [
            "Array:\n",
            " [[3 5]\n",
            " [7 9]]\n",
            "Sum Across Rows: [ 8 16]\n",
            "Sum Across Columns: [10 14]\n"
          ]
        }
      ]
    },
    {
      "cell_type": "code",
      "source": [
        "# Filter and print only the even numbers using boolean indexing\n",
        "arr = np.arange(10, 31)\n",
        "even_numbers = arr[arr % 2 == 0]\n",
        "print(\"Even numbers from 10 to 30:\", even_numbers)"
      ],
      "metadata": {
        "colab": {
          "base_uri": "https://localhost:8080/"
        },
        "id": "TdqWcDCauVfO",
        "outputId": "6a87f71b-b2a7-40a5-891a-146c20e110e3"
      },
      "id": "TdqWcDCauVfO",
      "execution_count": null,
      "outputs": [
        {
          "output_type": "stream",
          "name": "stdout",
          "text": [
            "Even numbers from 10 to 30: [10 12 14 16 18 20 22 24 26 28 30]\n"
          ]
        }
      ]
    },
    {
      "cell_type": "code",
      "source": [
        "# an array of 10 random integers from 1 to 100. Replace all elements greater than 50 with -1\n",
        "arr = np.random.randint(1, 101, size=10)\n",
        "print(\"Original array:\", arr)\n",
        "arr[arr > 50] = -1\n",
        "print(\"Modified array:\", arr)"
      ],
      "metadata": {
        "colab": {
          "base_uri": "https://localhost:8080/"
        },
        "id": "5B2tkGK1u6JJ",
        "outputId": "ea989dd1-e046-45fc-a0a8-2b5607df74d3"
      },
      "id": "5B2tkGK1u6JJ",
      "execution_count": null,
      "outputs": [
        {
          "output_type": "stream",
          "name": "stdout",
          "text": [
            "Original array: [25 27  2 74 24 15 94 83 99 42]\n",
            "Modified array: [25 27  2 -1 24 15 -1 -1 -1 42]\n"
          ]
        }
      ]
    },
    {
      "cell_type": "code",
      "source": [
        "# Stack them vertically and horizontally, then flatten the result into a 1D array\n",
        "x = np.array([[1, 2], [3, 4]])\n",
        "y = np.array([[5, 6], [7, 8]])\n",
        "vertical_stack = np.vstack((x, y))\n",
        "horizontal_stack = np.hstack((x, y))\n",
        "print(\"Vertical Stack:\\n\", vertical_stack)\n",
        "print(\"Horizontal Stack:\\n\", horizontal_stack)\n",
        "flattened = horizontal_stack.flatten()\n",
        "print(\"\\nFlattened 1D Array:\\n\", flattened)"
      ],
      "metadata": {
        "colab": {
          "base_uri": "https://localhost:8080/"
        },
        "id": "dNfpp8BSwXQw",
        "outputId": "f0fd3745-6dba-43f7-8a67-93142ab2306f"
      },
      "id": "dNfpp8BSwXQw",
      "execution_count": null,
      "outputs": [
        {
          "output_type": "stream",
          "name": "stdout",
          "text": [
            "Vertical Stack:\n",
            " [[1 2]\n",
            " [3 4]\n",
            " [5 6]\n",
            " [7 8]]\n",
            "Horizontal Stack:\n",
            " [[1 2 5 6]\n",
            " [3 4 7 8]]\n",
            "\n",
            "Flattened 1D Array:\n",
            " [1 2 5 6 3 4 7 8]\n"
          ]
        }
      ]
    },
    {
      "cell_type": "markdown",
      "source": [
        "Assignment 10   (pandas)"
      ],
      "metadata": {
        "id": "V1xplvZ3-xEz"
      },
      "id": "V1xplvZ3-xEz"
    },
    {
      "cell_type": "code",
      "source": [
        "import pandas as pd"
      ],
      "metadata": {
        "id": "UeEMiStr_UZD"
      },
      "id": "UeEMiStr_UZD",
      "execution_count": null,
      "outputs": []
    },
    {
      "cell_type": "code",
      "source": [
        "from google.colab import files\n",
        "uploaded = files.upload()\n"
      ],
      "metadata": {
        "colab": {
          "base_uri": "https://localhost:8080/",
          "height": 73
        },
        "id": "o82XJCQTD094",
        "outputId": "2d5d7c55-e9e8-4dfc-caea-3e49c158ebd6"
      },
      "id": "o82XJCQTD094",
      "execution_count": null,
      "outputs": [
        {
          "output_type": "display_data",
          "data": {
            "text/plain": [
              "<IPython.core.display.HTML object>"
            ],
            "text/html": [
              "\n",
              "     <input type=\"file\" id=\"files-57e68a83-e68e-4583-ab58-c5d51e70df67\" name=\"files[]\" multiple disabled\n",
              "        style=\"border:none\" />\n",
              "     <output id=\"result-57e68a83-e68e-4583-ab58-c5d51e70df67\">\n",
              "      Upload widget is only available when the cell has been executed in the\n",
              "      current browser session. Please rerun this cell to enable.\n",
              "      </output>\n",
              "      <script>// Copyright 2017 Google LLC\n",
              "//\n",
              "// Licensed under the Apache License, Version 2.0 (the \"License\");\n",
              "// you may not use this file except in compliance with the License.\n",
              "// You may obtain a copy of the License at\n",
              "//\n",
              "//      http://www.apache.org/licenses/LICENSE-2.0\n",
              "//\n",
              "// Unless required by applicable law or agreed to in writing, software\n",
              "// distributed under the License is distributed on an \"AS IS\" BASIS,\n",
              "// WITHOUT WARRANTIES OR CONDITIONS OF ANY KIND, either express or implied.\n",
              "// See the License for the specific language governing permissions and\n",
              "// limitations under the License.\n",
              "\n",
              "/**\n",
              " * @fileoverview Helpers for google.colab Python module.\n",
              " */\n",
              "(function(scope) {\n",
              "function span(text, styleAttributes = {}) {\n",
              "  const element = document.createElement('span');\n",
              "  element.textContent = text;\n",
              "  for (const key of Object.keys(styleAttributes)) {\n",
              "    element.style[key] = styleAttributes[key];\n",
              "  }\n",
              "  return element;\n",
              "}\n",
              "\n",
              "// Max number of bytes which will be uploaded at a time.\n",
              "const MAX_PAYLOAD_SIZE = 100 * 1024;\n",
              "\n",
              "function _uploadFiles(inputId, outputId) {\n",
              "  const steps = uploadFilesStep(inputId, outputId);\n",
              "  const outputElement = document.getElementById(outputId);\n",
              "  // Cache steps on the outputElement to make it available for the next call\n",
              "  // to uploadFilesContinue from Python.\n",
              "  outputElement.steps = steps;\n",
              "\n",
              "  return _uploadFilesContinue(outputId);\n",
              "}\n",
              "\n",
              "// This is roughly an async generator (not supported in the browser yet),\n",
              "// where there are multiple asynchronous steps and the Python side is going\n",
              "// to poll for completion of each step.\n",
              "// This uses a Promise to block the python side on completion of each step,\n",
              "// then passes the result of the previous step as the input to the next step.\n",
              "function _uploadFilesContinue(outputId) {\n",
              "  const outputElement = document.getElementById(outputId);\n",
              "  const steps = outputElement.steps;\n",
              "\n",
              "  const next = steps.next(outputElement.lastPromiseValue);\n",
              "  return Promise.resolve(next.value.promise).then((value) => {\n",
              "    // Cache the last promise value to make it available to the next\n",
              "    // step of the generator.\n",
              "    outputElement.lastPromiseValue = value;\n",
              "    return next.value.response;\n",
              "  });\n",
              "}\n",
              "\n",
              "/**\n",
              " * Generator function which is called between each async step of the upload\n",
              " * process.\n",
              " * @param {string} inputId Element ID of the input file picker element.\n",
              " * @param {string} outputId Element ID of the output display.\n",
              " * @return {!Iterable<!Object>} Iterable of next steps.\n",
              " */\n",
              "function* uploadFilesStep(inputId, outputId) {\n",
              "  const inputElement = document.getElementById(inputId);\n",
              "  inputElement.disabled = false;\n",
              "\n",
              "  const outputElement = document.getElementById(outputId);\n",
              "  outputElement.innerHTML = '';\n",
              "\n",
              "  const pickedPromise = new Promise((resolve) => {\n",
              "    inputElement.addEventListener('change', (e) => {\n",
              "      resolve(e.target.files);\n",
              "    });\n",
              "  });\n",
              "\n",
              "  const cancel = document.createElement('button');\n",
              "  inputElement.parentElement.appendChild(cancel);\n",
              "  cancel.textContent = 'Cancel upload';\n",
              "  const cancelPromise = new Promise((resolve) => {\n",
              "    cancel.onclick = () => {\n",
              "      resolve(null);\n",
              "    };\n",
              "  });\n",
              "\n",
              "  // Wait for the user to pick the files.\n",
              "  const files = yield {\n",
              "    promise: Promise.race([pickedPromise, cancelPromise]),\n",
              "    response: {\n",
              "      action: 'starting',\n",
              "    }\n",
              "  };\n",
              "\n",
              "  cancel.remove();\n",
              "\n",
              "  // Disable the input element since further picks are not allowed.\n",
              "  inputElement.disabled = true;\n",
              "\n",
              "  if (!files) {\n",
              "    return {\n",
              "      response: {\n",
              "        action: 'complete',\n",
              "      }\n",
              "    };\n",
              "  }\n",
              "\n",
              "  for (const file of files) {\n",
              "    const li = document.createElement('li');\n",
              "    li.append(span(file.name, {fontWeight: 'bold'}));\n",
              "    li.append(span(\n",
              "        `(${file.type || 'n/a'}) - ${file.size} bytes, ` +\n",
              "        `last modified: ${\n",
              "            file.lastModifiedDate ? file.lastModifiedDate.toLocaleDateString() :\n",
              "                                    'n/a'} - `));\n",
              "    const percent = span('0% done');\n",
              "    li.appendChild(percent);\n",
              "\n",
              "    outputElement.appendChild(li);\n",
              "\n",
              "    const fileDataPromise = new Promise((resolve) => {\n",
              "      const reader = new FileReader();\n",
              "      reader.onload = (e) => {\n",
              "        resolve(e.target.result);\n",
              "      };\n",
              "      reader.readAsArrayBuffer(file);\n",
              "    });\n",
              "    // Wait for the data to be ready.\n",
              "    let fileData = yield {\n",
              "      promise: fileDataPromise,\n",
              "      response: {\n",
              "        action: 'continue',\n",
              "      }\n",
              "    };\n",
              "\n",
              "    // Use a chunked sending to avoid message size limits. See b/62115660.\n",
              "    let position = 0;\n",
              "    do {\n",
              "      const length = Math.min(fileData.byteLength - position, MAX_PAYLOAD_SIZE);\n",
              "      const chunk = new Uint8Array(fileData, position, length);\n",
              "      position += length;\n",
              "\n",
              "      const base64 = btoa(String.fromCharCode.apply(null, chunk));\n",
              "      yield {\n",
              "        response: {\n",
              "          action: 'append',\n",
              "          file: file.name,\n",
              "          data: base64,\n",
              "        },\n",
              "      };\n",
              "\n",
              "      let percentDone = fileData.byteLength === 0 ?\n",
              "          100 :\n",
              "          Math.round((position / fileData.byteLength) * 100);\n",
              "      percent.textContent = `${percentDone}% done`;\n",
              "\n",
              "    } while (position < fileData.byteLength);\n",
              "  }\n",
              "\n",
              "  // All done.\n",
              "  yield {\n",
              "    response: {\n",
              "      action: 'complete',\n",
              "    }\n",
              "  };\n",
              "}\n",
              "\n",
              "scope.google = scope.google || {};\n",
              "scope.google.colab = scope.google.colab || {};\n",
              "scope.google.colab._files = {\n",
              "  _uploadFiles,\n",
              "  _uploadFilesContinue,\n",
              "};\n",
              "})(self);\n",
              "</script> "
            ]
          },
          "metadata": {}
        },
        {
          "output_type": "stream",
          "name": "stdout",
          "text": [
            "Saving diamonds.csv to diamonds (1).csv\n"
          ]
        }
      ]
    },
    {
      "cell_type": "code",
      "metadata": {
        "colab": {
          "base_uri": "https://localhost:8080/"
        },
        "id": "0b657bea",
        "outputId": "87031f68-f822-431e-c822-bbc889fcfa98"
      },
      "source": [
        "# Load the dataset and display the first 10 rows.\n",
        "import pandas as pd\n",
        "df = pd.read_csv('diamonds.csv')\n",
        "print(df.head(10))"
      ],
      "id": "0b657bea",
      "execution_count": null,
      "outputs": [
        {
          "output_type": "stream",
          "name": "stdout",
          "text": [
            "   carat        cut color clarity  depth  table  price     x     y     z\n",
            "0   0.23      Ideal     E     SI2   61.5   55.0    326  3.95  3.98  2.43\n",
            "1   0.21    Premium     E     SI1   59.8   61.0    326  3.89  3.84  2.31\n",
            "2   0.23       Good     E     VS1   56.9   65.0    327  4.05  4.07  2.31\n",
            "3   0.29    Premium     I     VS2   62.4   58.0    334  4.20  4.23  2.63\n",
            "4   0.31       Good     J     SI2   63.3   58.0    335  4.34  4.35  2.75\n",
            "5   0.24  Very Good     J    VVS2   62.8   57.0    336  3.94  3.96  2.48\n",
            "6   0.24  Very Good     I    VVS1   62.3   57.0    336  3.95  3.98  2.47\n",
            "7   0.26  Very Good     H     SI1   61.9   55.0    337  4.07  4.11  2.53\n",
            "8   0.22       Fair     E     VS2   65.1   61.0    337  3.87  3.78  2.49\n",
            "9   0.23  Very Good     H     VS1   59.4   61.0    338  4.00  4.05  2.39\n"
          ]
        }
      ]
    },
    {
      "cell_type": "code",
      "source": [
        "# Check the shape and column names of the dataset.\n",
        "import pandas as pd\n",
        "df = pd.read_csv('diamonds.csv')\n",
        "print(\"Shape of the dataset:\", df.shape)\n",
        "print(\"Column names:\", df.columns.tolist())"
      ],
      "metadata": {
        "colab": {
          "base_uri": "https://localhost:8080/"
        },
        "id": "MocX-u0rEaUG",
        "outputId": "a10fa207-9aa1-49d6-c50f-7e20aec2e059"
      },
      "id": "MocX-u0rEaUG",
      "execution_count": null,
      "outputs": [
        {
          "output_type": "stream",
          "name": "stdout",
          "text": [
            "Shape of the dataset: (50000, 10)\n",
            "Column names: ['carat', 'cut', 'color', 'clarity', 'depth', 'table', 'price', 'x', 'y', 'z']\n"
          ]
        }
      ]
    },
    {
      "cell_type": "code",
      "source": [
        "# Find and fill missing numeric values with their respective column means\n",
        "df.fillna(df.mean(numeric_only=True), inplace=True)\n",
        "print(\"Missing values after filling:\")\n",
        "print(df.isnull().sum())"
      ],
      "metadata": {
        "colab": {
          "base_uri": "https://localhost:8080/"
        },
        "id": "DbZH0IuTFfek",
        "outputId": "0536dfd0-373a-4786-eaab-38740e40f03f"
      },
      "id": "DbZH0IuTFfek",
      "execution_count": null,
      "outputs": [
        {
          "output_type": "stream",
          "name": "stdout",
          "text": [
            "Missing values after filling:\n",
            "carat      0\n",
            "cut        0\n",
            "color      0\n",
            "clarity    0\n",
            "depth      0\n",
            "table      0\n",
            "price      0\n",
            "x          0\n",
            "y          0\n",
            "z          0\n",
            "dtype: int64\n"
          ]
        }
      ]
    },
    {
      "cell_type": "code",
      "source": [
        "# Filter rows where `cut` is \"Ideal\" and `color` is \"E\"\n",
        "filtered_df = df[(df['cut'] == 'Ideal') & (df['color'] == 'E')]\n",
        "print(\"Filtered DataFrame:\")\n",
        "print(filtered_df)"
      ],
      "metadata": {
        "colab": {
          "base_uri": "https://localhost:8080/"
        },
        "id": "P5hHOpqLHhWl",
        "outputId": "d1a6713b-d11d-4eed-fd2b-9b9f07e67961"
      },
      "id": "P5hHOpqLHhWl",
      "execution_count": null,
      "outputs": [
        {
          "output_type": "stream",
          "name": "stdout",
          "text": [
            "Filtered DataFrame:\n",
            "       carat    cut color clarity  depth  table  price     x     y     z\n",
            "0       0.23  Ideal     E     SI2   61.5   55.0    326  3.95  3.98  2.43\n",
            "76      0.26  Ideal     E    VVS2   62.9   58.0    554  4.02  4.06  2.54\n",
            "82      0.70  Ideal     E     SI1   62.5   57.0   2757  5.70  5.72  3.57\n",
            "100     0.59  Ideal     E    VVS2   62.0   55.0   2761  5.38  5.43  3.35\n",
            "102     0.74  Ideal     E     SI2   62.2   56.0   2761  5.80  5.84  3.62\n",
            "...      ...    ...   ...     ...    ...    ...    ...   ...   ...   ...\n",
            "49940   0.70  Ideal     E     SI1   61.7   55.0   2745  5.71  5.74  3.53\n",
            "49942   0.51  Ideal     E    VVS1   61.9   54.0   2745  5.17  5.11  3.18\n",
            "49954   0.56  Ideal     E    VVS1   62.1   56.0   2750  5.28  5.29  3.28\n",
            "49978   0.77  Ideal     E     SI2   62.1   56.0   2753  5.84  5.86  3.63\n",
            "49987   0.71  Ideal     E     SI1   61.9   56.0   2756  5.71  5.73  3.54\n",
            "\n",
            "[3628 rows x 10 columns]\n"
          ]
        }
      ]
    },
    {
      "cell_type": "code",
      "source": [
        "# Group by `cut` and compute the average `price` for each group\n",
        "grouped_df = df.groupby('cut')['price'].mean()\n",
        "print(\"Average price for each cut:\")\n",
        "print(grouped_df)"
      ],
      "metadata": {
        "colab": {
          "base_uri": "https://localhost:8080/"
        },
        "id": "AMY84q3bIb1b",
        "outputId": "4e24efc7-b023-443f-d3a3-b3de73fe7a14"
      },
      "id": "AMY84q3bIb1b",
      "execution_count": null,
      "outputs": [
        {
          "output_type": "stream",
          "name": "stdout",
          "text": [
            "Average price for each cut:\n",
            "cut\n",
            "Fair         4329.705017\n",
            "Good         3961.470266\n",
            "Ideal        3463.090230\n",
            "Premium      4607.382867\n",
            "Very Good    3986.585594\n",
            "Name: price, dtype: float64\n"
          ]
        }
      ]
    },
    {
      "cell_type": "code",
      "source": [
        "# Sort the data by `carat` in descending order and show the top 5 rows\n",
        "sorted_df = df.sort_values(by='carat', ascending=False)\n",
        "print(sorted_df.head(5))"
      ],
      "metadata": {
        "colab": {
          "base_uri": "https://localhost:8080/"
        },
        "id": "M_tbybBSJD7m",
        "outputId": "f955db5d-da90-469d-9c90-478d67d46334"
      },
      "id": "M_tbybBSJD7m",
      "execution_count": null,
      "outputs": [
        {
          "output_type": "stream",
          "name": "stdout",
          "text": [
            "       carat      cut color clarity  depth  table  price      x      y     z\n",
            "25426   5.01     Fair     J      I1   65.5   59.0  18018  10.74  10.54  6.98\n",
            "25624   4.50     Fair     J      I1   65.8   58.0  18531  10.23  10.16  6.72\n",
            "25163   4.13     Fair     H      I1   64.8   61.0  17329  10.00   9.85  6.43\n",
            "24102   4.01  Premium     I      I1   61.0   61.0  15223  10.14  10.10  6.17\n",
            "24103   4.01  Premium     J      I1   62.5   62.0  15223  10.02   9.94  6.24\n"
          ]
        }
      ]
    },
    {
      "cell_type": "code",
      "source": [
        "# Convert the `price` column to a NumPy array and find its mean, median, and standard deviation\n",
        "import numpy as np\n",
        "price_array = df['price'].to_numpy()\n",
        "mean_price = np.mean(price_array)\n",
        "median_price = np.median(price_array)\n",
        "std_dev_price = np.std(price_array)\n",
        "print(\"Mean price:\", mean_price)\n",
        "print(\"Median price:\", median_price)\n",
        "print(\"Standard Deviation of price:\", std_dev_price)"
      ],
      "metadata": {
        "colab": {
          "base_uri": "https://localhost:8080/"
        },
        "id": "6cOcT4FrKU-N",
        "outputId": "c68e479c-e0c7-4011-d56e-a388a1098a66"
      },
      "id": "6cOcT4FrKU-N",
      "execution_count": null,
      "outputs": [
        {
          "output_type": "stream",
          "name": "stdout",
          "text": [
            "Mean price: 3944.80544\n",
            "Median price: 2410.0\n",
            "Standard Deviation of price: 3997.8981250585175\n"
          ]
        }
      ]
    },
    {
      "cell_type": "code",
      "source": [
        "# Count diamonds with `price > 5000` and `carat > 1` using NumPy conditions\n",
        "price_array = df['price'].to_numpy()\n",
        "carat_array = df['carat'].to_numpy()\n",
        "condition = (price_array > 5000) & (carat_array > 1)\n",
        "count = np.sum(condition)\n",
        "print(\"Number of diamonds with price > 5000 and carat > 1:\", count)"
      ],
      "metadata": {
        "colab": {
          "base_uri": "https://localhost:8080/"
        },
        "id": "gK1Oso0pKzqD",
        "outputId": "00bee99f-bd86-4c02-90bb-ecc1533c9794"
      },
      "id": "gK1Oso0pKzqD",
      "execution_count": null,
      "outputs": [
        {
          "output_type": "stream",
          "name": "stdout",
          "text": [
            "Number of diamonds with price > 5000 and carat > 1: 12798\n"
          ]
        }
      ]
    },
    {
      "cell_type": "code",
      "source": [
        "# Create a new column `price_updated` by increasing `price` by 10% using NumPy\n",
        "price_updated_array = price_array * 1.10\n",
        "df['price_updated'] = price_updated_array\n",
        "print(df[['price', 'price_updated']])"
      ],
      "metadata": {
        "colab": {
          "base_uri": "https://localhost:8080/"
        },
        "id": "byc055qVLoST",
        "outputId": "143da1d2-7bbc-44fe-e83f-c74ba1729637"
      },
      "id": "byc055qVLoST",
      "execution_count": null,
      "outputs": [
        {
          "output_type": "stream",
          "name": "stdout",
          "text": [
            "       price  price_updated\n",
            "0        326          358.6\n",
            "1        326          358.6\n",
            "2        327          359.7\n",
            "3        334          367.4\n",
            "4        335          368.5\n",
            "...      ...            ...\n",
            "49995   2757         3032.7\n",
            "49996   2757         3032.7\n",
            "49997   2757         3032.7\n",
            "49998   2757         3032.7\n",
            "49999   2757         3032.7\n",
            "\n",
            "[50000 rows x 2 columns]\n"
          ]
        }
      ]
    },
    {
      "cell_type": "code",
      "source": [
        "# Create a `volume` column as `x*y*z` and find the average `price` where `volume > 50`\n",
        "df['volume'] = df['x'] * df['y'] * df['z']\n",
        "filtered_df = df[df['volume'] > 50]\n",
        "average_price = filtered_df['price'].mean()\n",
        "print(\"Average price where volume > 50:\", average_price)"
      ],
      "metadata": {
        "colab": {
          "base_uri": "https://localhost:8080/"
        },
        "id": "4oQ27ldvMt_E",
        "outputId": "482fd1f9-c057-428d-cb38-860a0da8cca9"
      },
      "id": "4oQ27ldvMt_E",
      "execution_count": null,
      "outputs": [
        {
          "output_type": "stream",
          "name": "stdout",
          "text": [
            "Average price where volume > 50: 4195.133420860057\n"
          ]
        }
      ]
    },
    {
      "cell_type": "markdown",
      "source": [
        "**Assignment 11 (pandas)**"
      ],
      "metadata": {
        "id": "ELU_6w5yDraa"
      },
      "id": "ELU_6w5yDraa"
    },
    {
      "cell_type": "code",
      "source": [
        "from google.colab import files\n",
        "uploaded = files.upload()"
      ],
      "metadata": {
        "colab": {
          "base_uri": "https://localhost:8080/",
          "height": 73
        },
        "id": "3u4JcqoHEnM6",
        "outputId": "4a624620-62d7-4b3b-b2af-fd83038b7d9b"
      },
      "id": "3u4JcqoHEnM6",
      "execution_count": null,
      "outputs": [
        {
          "output_type": "display_data",
          "data": {
            "text/plain": [
              "<IPython.core.display.HTML object>"
            ],
            "text/html": [
              "\n",
              "     <input type=\"file\" id=\"files-b05000cb-ab25-45f0-a209-e44ad7f0d2db\" name=\"files[]\" multiple disabled\n",
              "        style=\"border:none\" />\n",
              "     <output id=\"result-b05000cb-ab25-45f0-a209-e44ad7f0d2db\">\n",
              "      Upload widget is only available when the cell has been executed in the\n",
              "      current browser session. Please rerun this cell to enable.\n",
              "      </output>\n",
              "      <script>// Copyright 2017 Google LLC\n",
              "//\n",
              "// Licensed under the Apache License, Version 2.0 (the \"License\");\n",
              "// you may not use this file except in compliance with the License.\n",
              "// You may obtain a copy of the License at\n",
              "//\n",
              "//      http://www.apache.org/licenses/LICENSE-2.0\n",
              "//\n",
              "// Unless required by applicable law or agreed to in writing, software\n",
              "// distributed under the License is distributed on an \"AS IS\" BASIS,\n",
              "// WITHOUT WARRANTIES OR CONDITIONS OF ANY KIND, either express or implied.\n",
              "// See the License for the specific language governing permissions and\n",
              "// limitations under the License.\n",
              "\n",
              "/**\n",
              " * @fileoverview Helpers for google.colab Python module.\n",
              " */\n",
              "(function(scope) {\n",
              "function span(text, styleAttributes = {}) {\n",
              "  const element = document.createElement('span');\n",
              "  element.textContent = text;\n",
              "  for (const key of Object.keys(styleAttributes)) {\n",
              "    element.style[key] = styleAttributes[key];\n",
              "  }\n",
              "  return element;\n",
              "}\n",
              "\n",
              "// Max number of bytes which will be uploaded at a time.\n",
              "const MAX_PAYLOAD_SIZE = 100 * 1024;\n",
              "\n",
              "function _uploadFiles(inputId, outputId) {\n",
              "  const steps = uploadFilesStep(inputId, outputId);\n",
              "  const outputElement = document.getElementById(outputId);\n",
              "  // Cache steps on the outputElement to make it available for the next call\n",
              "  // to uploadFilesContinue from Python.\n",
              "  outputElement.steps = steps;\n",
              "\n",
              "  return _uploadFilesContinue(outputId);\n",
              "}\n",
              "\n",
              "// This is roughly an async generator (not supported in the browser yet),\n",
              "// where there are multiple asynchronous steps and the Python side is going\n",
              "// to poll for completion of each step.\n",
              "// This uses a Promise to block the python side on completion of each step,\n",
              "// then passes the result of the previous step as the input to the next step.\n",
              "function _uploadFilesContinue(outputId) {\n",
              "  const outputElement = document.getElementById(outputId);\n",
              "  const steps = outputElement.steps;\n",
              "\n",
              "  const next = steps.next(outputElement.lastPromiseValue);\n",
              "  return Promise.resolve(next.value.promise).then((value) => {\n",
              "    // Cache the last promise value to make it available to the next\n",
              "    // step of the generator.\n",
              "    outputElement.lastPromiseValue = value;\n",
              "    return next.value.response;\n",
              "  });\n",
              "}\n",
              "\n",
              "/**\n",
              " * Generator function which is called between each async step of the upload\n",
              " * process.\n",
              " * @param {string} inputId Element ID of the input file picker element.\n",
              " * @param {string} outputId Element ID of the output display.\n",
              " * @return {!Iterable<!Object>} Iterable of next steps.\n",
              " */\n",
              "function* uploadFilesStep(inputId, outputId) {\n",
              "  const inputElement = document.getElementById(inputId);\n",
              "  inputElement.disabled = false;\n",
              "\n",
              "  const outputElement = document.getElementById(outputId);\n",
              "  outputElement.innerHTML = '';\n",
              "\n",
              "  const pickedPromise = new Promise((resolve) => {\n",
              "    inputElement.addEventListener('change', (e) => {\n",
              "      resolve(e.target.files);\n",
              "    });\n",
              "  });\n",
              "\n",
              "  const cancel = document.createElement('button');\n",
              "  inputElement.parentElement.appendChild(cancel);\n",
              "  cancel.textContent = 'Cancel upload';\n",
              "  const cancelPromise = new Promise((resolve) => {\n",
              "    cancel.onclick = () => {\n",
              "      resolve(null);\n",
              "    };\n",
              "  });\n",
              "\n",
              "  // Wait for the user to pick the files.\n",
              "  const files = yield {\n",
              "    promise: Promise.race([pickedPromise, cancelPromise]),\n",
              "    response: {\n",
              "      action: 'starting',\n",
              "    }\n",
              "  };\n",
              "\n",
              "  cancel.remove();\n",
              "\n",
              "  // Disable the input element since further picks are not allowed.\n",
              "  inputElement.disabled = true;\n",
              "\n",
              "  if (!files) {\n",
              "    return {\n",
              "      response: {\n",
              "        action: 'complete',\n",
              "      }\n",
              "    };\n",
              "  }\n",
              "\n",
              "  for (const file of files) {\n",
              "    const li = document.createElement('li');\n",
              "    li.append(span(file.name, {fontWeight: 'bold'}));\n",
              "    li.append(span(\n",
              "        `(${file.type || 'n/a'}) - ${file.size} bytes, ` +\n",
              "        `last modified: ${\n",
              "            file.lastModifiedDate ? file.lastModifiedDate.toLocaleDateString() :\n",
              "                                    'n/a'} - `));\n",
              "    const percent = span('0% done');\n",
              "    li.appendChild(percent);\n",
              "\n",
              "    outputElement.appendChild(li);\n",
              "\n",
              "    const fileDataPromise = new Promise((resolve) => {\n",
              "      const reader = new FileReader();\n",
              "      reader.onload = (e) => {\n",
              "        resolve(e.target.result);\n",
              "      };\n",
              "      reader.readAsArrayBuffer(file);\n",
              "    });\n",
              "    // Wait for the data to be ready.\n",
              "    let fileData = yield {\n",
              "      promise: fileDataPromise,\n",
              "      response: {\n",
              "        action: 'continue',\n",
              "      }\n",
              "    };\n",
              "\n",
              "    // Use a chunked sending to avoid message size limits. See b/62115660.\n",
              "    let position = 0;\n",
              "    do {\n",
              "      const length = Math.min(fileData.byteLength - position, MAX_PAYLOAD_SIZE);\n",
              "      const chunk = new Uint8Array(fileData, position, length);\n",
              "      position += length;\n",
              "\n",
              "      const base64 = btoa(String.fromCharCode.apply(null, chunk));\n",
              "      yield {\n",
              "        response: {\n",
              "          action: 'append',\n",
              "          file: file.name,\n",
              "          data: base64,\n",
              "        },\n",
              "      };\n",
              "\n",
              "      let percentDone = fileData.byteLength === 0 ?\n",
              "          100 :\n",
              "          Math.round((position / fileData.byteLength) * 100);\n",
              "      percent.textContent = `${percentDone}% done`;\n",
              "\n",
              "    } while (position < fileData.byteLength);\n",
              "  }\n",
              "\n",
              "  // All done.\n",
              "  yield {\n",
              "    response: {\n",
              "      action: 'complete',\n",
              "    }\n",
              "  };\n",
              "}\n",
              "\n",
              "scope.google = scope.google || {};\n",
              "scope.google.colab = scope.google.colab || {};\n",
              "scope.google.colab._files = {\n",
              "  _uploadFiles,\n",
              "  _uploadFilesContinue,\n",
              "};\n",
              "})(self);\n",
              "</script> "
            ]
          },
          "metadata": {}
        },
        {
          "output_type": "stream",
          "name": "stdout",
          "text": [
            "Saving nyc_weather.csv to nyc_weather.csv\n"
          ]
        }
      ]
    },
    {
      "cell_type": "code",
      "source": [
        "import pandas as pd\n",
        "import numpy as np"
      ],
      "metadata": {
        "id": "FlIGFitlGEuj"
      },
      "id": "FlIGFitlGEuj",
      "execution_count": null,
      "outputs": []
    },
    {
      "cell_type": "code",
      "source": [
        "# Calculate the number of days with missing temperature data (Max, Min, or Mean)\n",
        "df = pd.read_csv('nyc_weather.csv')\n",
        "print(df.columns)\n",
        "missing_days_count = df['Temperature'].isnull().sum()\n",
        "print(\"Number of days with missing temperature data:\", missing_days_count)"
      ],
      "metadata": {
        "colab": {
          "base_uri": "https://localhost:8080/"
        },
        "id": "eTaD6f49GPyl",
        "outputId": "763b7f2d-328f-46f6-cf89-b1c51f91d052"
      },
      "id": "eTaD6f49GPyl",
      "execution_count": null,
      "outputs": [
        {
          "output_type": "stream",
          "name": "stdout",
          "text": [
            "Index(['EST', 'Temperature', 'DewPoint', 'Humidity', 'Sea Level PressureIn',\n",
            "       'VisibilityMiles', 'WindSpeedMPH', 'PrecipitationIn', 'CloudCover',\n",
            "       'Events', 'WindDirDegrees'],\n",
            "      dtype='object')\n",
            "Number of days with missing temperature data: 0\n"
          ]
        }
      ]
    },
    {
      "cell_type": "code",
      "source": [
        "# Group the data by 'Events' and calculate the average mean temperature for each event type\n",
        "average_temp = df.groupby('Events')['Temperature'].mean().reset_index()\n",
        "print(average_temp)"
      ],
      "metadata": {
        "colab": {
          "base_uri": "https://localhost:8080/"
        },
        "id": "iU076ygoHkHu",
        "outputId": "9363fc9f-ed02-47cb-dbce-4362de054fbc"
      },
      "id": "iU076ygoHkHu",
      "execution_count": null,
      "outputs": [
        {
          "output_type": "stream",
          "name": "stdout",
          "text": [
            "     Events  Temperature\n",
            "0  Fog-Snow    31.000000\n",
            "1      Rain    45.500000\n",
            "2      Snow    26.333333\n"
          ]
        }
      ]
    },
    {
      "cell_type": "code",
      "source": [
        "# Create a new column 'Feels Like' using the formula: (Max TemperatureF + Min TemperatureF) / 2- (Mean Humidity / 100) * Wind SpeedMPH\n",
        "df['Feels Like'] = df['Temperature'] - ((df['Humidity'].mean() / 100) * df['WindSpeedMPH'])\n",
        "print(df.columns)\n",
        "print(df.head())"
      ],
      "metadata": {
        "colab": {
          "base_uri": "https://localhost:8080/"
        },
        "id": "tTByfxiaJKIQ",
        "outputId": "64597a48-d8a5-4dfa-d7bd-2b8b6d8e3066"
      },
      "id": "tTByfxiaJKIQ",
      "execution_count": null,
      "outputs": [
        {
          "output_type": "stream",
          "name": "stdout",
          "text": [
            "Index(['EST', 'Temperature', 'DewPoint', 'Humidity', 'Sea Level PressureIn',\n",
            "       'VisibilityMiles', 'WindSpeedMPH', 'PrecipitationIn', 'CloudCover',\n",
            "       'Events', 'WindDirDegrees', 'Feels Like'],\n",
            "      dtype='object')\n",
            "        EST  Temperature  DewPoint  Humidity  Sea Level PressureIn  \\\n",
            "0  1/1/2016           38        23        52                 30.03   \n",
            "1  1/2/2016           36        18        46                 30.02   \n",
            "2  1/3/2016           40        21        47                 29.86   \n",
            "3  1/4/2016           25         9        44                 30.05   \n",
            "4  1/5/2016           20        -3        41                 30.57   \n",
            "\n",
            "   VisibilityMiles  WindSpeedMPH PrecipitationIn  CloudCover Events  \\\n",
            "0               10           8.0               0           5    NaN   \n",
            "1               10           7.0               0           3    NaN   \n",
            "2               10           8.0               0           1    NaN   \n",
            "3               10           9.0               0           3    NaN   \n",
            "4               10           5.0               0           0    NaN   \n",
            "\n",
            "   WindDirDegrees  Feels Like  \n",
            "0             281   33.865806  \n",
            "1             275   32.382581  \n",
            "2             277   35.865806  \n",
            "3             345   20.349032  \n",
            "4             333   17.416129  \n"
          ]
        }
      ]
    },
    {
      "cell_type": "code",
      "source": [
        "# Find the top 3 dates with the highest temperature difference (Max - Min)\n",
        "df['Estimated_Max'] = df['Temperature'] + (df['DewPoint'] / 2)\n",
        "df['Estimated_Min'] = df['Temperature'] - (df['DewPoint'] / 2)\n",
        "df['Temp_Diff'] = df['Estimated_Max'] - df['Estimated_Min']\n",
        "top3 = df[['EST', 'Temp_Diff']].sort_values(by='Temp_Diff', ascending=False).head(3)\n",
        "print(top3)"
      ],
      "metadata": {
        "colab": {
          "base_uri": "https://localhost:8080/"
        },
        "id": "aSuePwGdLTZ7",
        "outputId": "f250984b-dfd4-4296-b46f-b9bcbe850bf9"
      },
      "id": "aSuePwGdLTZ7",
      "execution_count": null,
      "outputs": [
        {
          "output_type": "stream",
          "name": "stdout",
          "text": [
            "          EST  Temp_Diff\n",
            "9   1/10/2016       46.0\n",
            "8    1/9/2016       38.0\n",
            "15  1/16/2016       37.0\n"
          ]
        }
      ]
    },
    {
      "cell_type": "code",
      "source": [
        "# Identify the longest streak of days with no precipitation\n",
        "df['PrecipitationIn'] = df['PrecipitationIn'].replace('T', 0).astype(float)\n",
        "max_streak = 0\n",
        "current_streak = 0\n",
        "for val in df['PrecipitationIn']:\n",
        "    if val == 0:\n",
        "        current_streak += 1\n",
        "        max_streak = max(max_streak, current_streak)\n",
        "    else:\n",
        "        current_streak = 0\n",
        "print(\"Longest no-precipitation streak:\", max_streak, \"days\")"
      ],
      "metadata": {
        "colab": {
          "base_uri": "https://localhost:8080/"
        },
        "id": "y-ar5NnINLmg",
        "outputId": "5120490e-9278-4c78-ef1a-54906bc77403"
      },
      "id": "y-ar5NnINLmg",
      "execution_count": null,
      "outputs": [
        {
          "output_type": "stream",
          "name": "stdout",
          "text": [
            "Longest no-precipitation streak: 9 days\n"
          ]
        }
      ]
    },
    {
      "cell_type": "code",
      "source": [
        "# Calculate the total precipitation for days with both Rain and Fog events\n",
        "df['PrecipitationIn'] = df['PrecipitationIn'].replace('T', 0).astype(float)\n",
        "rain_fog_days = df[df['Events'].str.contains('Rain') & df['Events'].str.contains('Fog', na=False)]\n",
        "total_precip = rain_fog_days['PrecipitationIn'].sum()\n",
        "print(\"Total precipitation on Rain & Fog days:\", total_precip)"
      ],
      "metadata": {
        "colab": {
          "base_uri": "https://localhost:8080/"
        },
        "id": "JkODEpUgOXfD",
        "outputId": "57ec102d-fe4f-429c-999a-8e5309d9ee18"
      },
      "id": "JkODEpUgOXfD",
      "execution_count": null,
      "outputs": [
        {
          "output_type": "stream",
          "name": "stdout",
          "text": [
            "Total precipitation on Rain & Fog days: 0.0\n"
          ]
        }
      ]
    },
    {
      "cell_type": "code",
      "source": [
        "# Convert the 'EST' column to datetime format and extract the week number for each date\n",
        "df['EST'] = pd.to_datetime(df['EST'])\n",
        "df['Week_Number'] = df['EST'].dt.isocalendar().week\n",
        "print(df[['EST', 'Week_Number']].head())"
      ],
      "metadata": {
        "colab": {
          "base_uri": "https://localhost:8080/"
        },
        "id": "X_hqDF7fPSRt",
        "outputId": "be446623-7fb0-4fc7-ef91-626f0ed85a4b"
      },
      "id": "X_hqDF7fPSRt",
      "execution_count": null,
      "outputs": [
        {
          "output_type": "stream",
          "name": "stdout",
          "text": [
            "         EST  Week_Number\n",
            "0 2016-01-01           53\n",
            "1 2016-01-02           53\n",
            "2 2016-01-03           53\n",
            "3 2016-01-04            1\n",
            "4 2016-01-05            1\n"
          ]
        }
      ]
    },
    {
      "cell_type": "code",
      "source": [
        "# Find the month with the highest average wind speed\n",
        "df['Month'] = pd.to_datetime(df['EST']).dt.month_name()\n",
        "avg_wind = df.groupby('Month')['WindSpeedMPH'].mean()\n",
        "print(\"Month with highest average wind speed:\")\n",
        "print(avg_wind.sort_values(ascending=False).head())"
      ],
      "metadata": {
        "colab": {
          "base_uri": "https://localhost:8080/"
        },
        "id": "qFh7vXbCP_60",
        "outputId": "45853a86-4195-47cd-d184-3324cee1ce93"
      },
      "id": "qFh7vXbCP_60",
      "execution_count": null,
      "outputs": [
        {
          "output_type": "stream",
          "name": "stdout",
          "text": [
            "Month with highest average wind speed:\n",
            "Month\n",
            "January    6.892857\n",
            "Name: WindSpeedMPH, dtype: float64\n"
          ]
        }
      ]
    },
    {
      "cell_type": "code",
      "source": [
        "# Detect outliers in the 'Max TemperatureF' column using IQR method\n",
        "Q1 = df['Temperature'].quantile(0.25)\n",
        "Q3 = df['Temperature'].quantile(0.75)\n",
        "IQR = Q3 - Q1\n",
        "lower_bound = Q1 - 1.5 * IQR\n",
        "upper_bound = Q3 + 1.5 * IQR\n",
        "outliers = df[(df['Temperature'] < lower_bound) | (df['Temperature'] > upper_bound)]\n",
        "print(\"Outliers in Temperature column:\")\n",
        "print(outliers[['EST', 'Temperature']])"
      ],
      "metadata": {
        "colab": {
          "base_uri": "https://localhost:8080/"
        },
        "id": "RDubKa_IRD7a",
        "outputId": "656ae8f5-c6bf-47a6-e629-b9ec734e2b56"
      },
      "id": "RDubKa_IRD7a",
      "execution_count": null,
      "outputs": [
        {
          "output_type": "stream",
          "name": "stdout",
          "text": [
            "Outliers in Temperature column:\n",
            "Empty DataFrame\n",
            "Columns: [EST, Temperature]\n",
            "Index: []\n"
          ]
        }
      ]
    },
    {
      "cell_type": "code",
      "source": [
        "# Create a line plot of mean temperature over time and annotate the highest peak\n",
        "import matplotlib.pyplot as plt\n",
        "import pandas as pd\n",
        "df['EST'] = pd.to_datetime(df['EST'])\n",
        "plt.plot(df['EST'], df['Temperature'])\n",
        "plt.annotate('Peak', xy=(df['EST'][df['Temperature'].idxmax()], df['Temperature'].max()))\n",
        "plt.xlabel('Date'); plt.ylabel('Temp')\n",
        "plt.show()"
      ],
      "metadata": {
        "colab": {
          "base_uri": "https://localhost:8080/",
          "height": 449
        },
        "id": "yDWz64SjRyJ4",
        "outputId": "f2106838-3c7a-4274-e8db-c7eb2a3d1cdd"
      },
      "id": "yDWz64SjRyJ4",
      "execution_count": null,
      "outputs": [
        {
          "output_type": "display_data",
          "data": {
            "text/plain": [
              "<Figure size 640x480 with 1 Axes>"
            ],
            "image/png": "[encoded data removed]"
          },
          "metadata": {}
        }
      ]
    },
    {
      "cell_type": "markdown",
      "source": [
        "Assignment"
      ],
      "metadata": {
        "id": "q_24PcIroTuB"
      },
      "id": "q_24PcIroTuB"
    },
    {
      "cell_type": "code",
      "source": [
        "# Function to print full pyramid pattern\n",
        "rows = int(input(\"Enter Pyramid Pattern Rows = \"))\n",
        "\n",
        "print(\"Pyramid Star Pattern\")\n",
        "\n",
        "for i in range(0, rows):\n",
        "    for j in range(0, rows - i - 1):\n",
        "        print(end = ' ')\n",
        "    for k in range(0, i + 1):\n",
        "        print('*', end = ' ')\n",
        "    print()"
      ],
      "metadata": {
        "colab": {
          "base_uri": "https://localhost:8080/"
        },
        "id": "34p8XHa_oYMd",
        "outputId": "fbeed7c2-9052-4792-93b7-410c8744bd41"
      },
      "id": "34p8XHa_oYMd",
      "execution_count": null,
      "outputs": [
        {
          "output_type": "stream",
          "name": "stdout",
          "text": [
            "Enter Pyramid Pattern Rows = 5\n",
            "Pyramid Star Pattern\n",
            "    * \n",
            "   * * \n",
            "  * * * \n",
            " * * * * \n",
            "* * * * * \n"
          ]
        }
      ]
    },
    {
      "cell_type": "code",
      "source": [
        "#  Create a simple menu driven program using while loop\n",
        "while True:\n",
        "    print(\"Menu:\")\n",
        "    print(\"1. Option 1\")\n",
        "    print(\"2. Option 2\")\n",
        "    print(\"3. Exit\")\n",
        "    choice = int(input(\"Enter your choice: \"))\n",
        "    if choice == 1:\n",
        "        print(\"You've choosed option 1\")\n",
        "        pass\n",
        "    elif choice == 2:\n",
        "        print(\"You've choosed option 2\")\n",
        "        pass\n",
        "    elif choice == 3:\n",
        "        break\n",
        "    else:\n",
        "        print(\"Invalid choice. Please try again.\")"
      ],
      "metadata": {
        "colab": {
          "base_uri": "https://localhost:8080/"
        },
        "id": "g7kBaDgdolId",
        "outputId": "ea9435bd-5e3c-4174-82a5-0f283d2023d2"
      },
      "id": "g7kBaDgdolId",
      "execution_count": null,
      "outputs": [
        {
          "name": "stdout",
          "output_type": "stream",
          "text": [
            "Menu:\n",
            "1. Option 1\n",
            "2. Option 2\n",
            "3. Exit\n",
            "Enter your choice: 2\n",
            "You've choosed option 2\n",
            "Menu:\n",
            "1. Option 1\n",
            "2. Option 2\n",
            "3. Exit\n",
            "Enter your choice: 3\n"
          ]
        }
      ]
    },
    {
      "cell_type": "code",
      "source": [
        "#  Right pyramid\n",
        "rows = int(input(\"Enter number of rows: \"))\n",
        "for i in range(rows):\n",
        "    for j in range(i+1):\n",
        "        print(\"* \", end=\"\")\n",
        "    print()"
      ],
      "metadata": {
        "colab": {
          "base_uri": "https://localhost:8080/"
        },
        "id": "Btp81iW3o013",
        "outputId": "6c9eb077-24f1-4481-ca32-def11ea8a47d"
      },
      "id": "Btp81iW3o013",
      "execution_count": null,
      "outputs": [
        {
          "output_type": "stream",
          "name": "stdout",
          "text": [
            "Enter number of rows: 4\n",
            "* \n",
            "* * \n",
            "* * * \n",
            "* * * * \n"
          ]
        }
      ]
    },
    {
      "cell_type": "code",
      "source": [
        "#  Whole Square pattern like star\n",
        "n = 5\n",
        "for i in range(n):\n",
        "    for j in range(n):\n",
        "        print(\"*\", end=' ')\n",
        "    print()"
      ],
      "metadata": {
        "colab": {
          "base_uri": "https://localhost:8080/"
        },
        "id": "pjIOehYGo9TV",
        "outputId": "6ec43309-9fa2-4d9e-f264-c91fdf7f5d60"
      },
      "id": "pjIOehYGo9TV",
      "execution_count": null,
      "outputs": [
        {
          "output_type": "stream",
          "name": "stdout",
          "text": [
            "* * * * * \n",
            "* * * * * \n",
            "* * * * * \n",
            "* * * * * \n",
            "* * * * * \n"
          ]
        }
      ]
    },
    {
      "cell_type": "code",
      "source": [
        "#  Hollow Square pattern like star\n",
        "n = 5\n",
        "for i in range(1, n+1):\n",
        "    for j in range(1, n+1):\n",
        "        if (i == 1 or i == n or j == 1 or j == n):\n",
        "            print(\"*\", end=\" \")\n",
        "        else:\n",
        "            print(\" \", end=\" \")\n",
        "    print()"
      ],
      "metadata": {
        "colab": {
          "base_uri": "https://localhost:8080/"
        },
        "id": "cyh28jwwo-2f",
        "outputId": "c91eeb6f-ae9b-43fe-e914-ed79a6e573de"
      },
      "id": "cyh28jwwo-2f",
      "execution_count": null,
      "outputs": [
        {
          "output_type": "stream",
          "name": "stdout",
          "text": [
            "* * * * * \n",
            "*       * \n",
            "*       * \n",
            "*       * \n",
            "* * * * * \n"
          ]
        }
      ]
    },
    {
      "cell_type": "code",
      "source": [
        "#  Rectangular Pattern like stars\n",
        "rows = 3\n",
        "columns = 6\n",
        "for i in range(rows):\n",
        "    for j in range(columns):\n",
        "        if i == 0 or i == rows - 1 or j == 0 or j == columns - 1:\n",
        "            print('*', end='  ')\n",
        "        else:\n",
        "            print(' ', end='  ')\n",
        "    print()"
      ],
      "metadata": {
        "colab": {
          "base_uri": "https://localhost:8080/"
        },
        "id": "Ofwr4iYEpCyK",
        "outputId": "2b9111a2-0c1f-4e0f-f471-48ad0d09a827"
      },
      "id": "Ofwr4iYEpCyK",
      "execution_count": null,
      "outputs": [
        {
          "output_type": "stream",
          "name": "stdout",
          "text": [
            "*  *  *  *  *  *  \n",
            "*              *  \n",
            "*  *  *  *  *  *  \n"
          ]
        }
      ]
    },
    {
      "cell_type": "markdown",
      "source": [
        "Assignment on Matplotlib"
      ],
      "metadata": {
        "id": "5KqrluKUph0k"
      },
      "id": "5KqrluKUph0k"
    },
    {
      "cell_type": "code",
      "source": [],
      "metadata": {
        "id": "IK9f_dEtpoBB"
      },
      "id": "IK9f_dEtpoBB",
      "execution_count": null,
      "outputs": []
    },
    {
      "cell_type": "code",
      "source": [
        "import matplotlib.pyplot as plt\n",
        "plt.plot([1,2,3,4])\n",
        "plt.ylabel(\"SOME NUMBERS\")\n",
        "plt.xlabel(\"Some more numbers\")\n",
        "plt.show()"
      ],
      "metadata": {
        "colab": {
          "base_uri": "https://localhost:8080/",
          "height": 449
        },
        "id": "hdl0oiUOpGZU",
        "outputId": "d2aa1aff-84f0-433b-aaaf-591f7f4abe30"
      },
      "id": "hdl0oiUOpGZU",
      "execution_count": null,
      "outputs": [
        {
          "output_type": "display_data",
          "data": {
            "text/plain": [
              "<Figure size 640x480 with 1 Axes>"
            ],
            "image/png": "[encoded data removed]"
          },
          "metadata": {}
        }
      ]
    },
    {
      "cell_type": "code",
      "source": [
        "import matplotlib.pyplot as plt\n",
        "import numpy as np\n",
        "x=np.linspace(0,10,100)\n",
        "plt.plot(x,np.sin(x),'--')\n",
        "plt.plot(x,np.cos(x))\n",
        "plt.show()"
      ],
      "metadata": {
        "colab": {
          "base_uri": "https://localhost:8080/",
          "height": 430
        },
        "id": "livLMjULpLO9",
        "outputId": "0e72fec4-776f-4121-a39c-20f3b36e7288"
      },
      "id": "livLMjULpLO9",
      "execution_count": null,
      "outputs": [
        {
          "output_type": "display_data",
          "data": {
            "text/plain": [
              "<Figure size 640x480 with 1 Axes>"
            ],
            "image/png": "[encoded data removed]"
          },
          "metadata": {}
        }
      ]
    },
    {
      "cell_type": "code",
      "source": [
        "plt.plot([1,2,3,4],[1,4,9,16])"
      ],
      "metadata": {
        "colab": {
          "base_uri": "https://localhost:8080/",
          "height": 447
        },
        "id": "7gQ-djBWprfm",
        "outputId": "896c4ddc-5515-48f4-ffd4-875746c9ca76"
      },
      "id": "7gQ-djBWprfm",
      "execution_count": null,
      "outputs": [
        {
          "output_type": "execute_result",
          "data": {
            "text/plain": [
              "[<matplotlib.lines.Line2D at 0x7e13a866e9d0>]"
            ]
          },
          "metadata": {},
          "execution_count": 9
        },
        {
          "output_type": "display_data",
          "data": {
            "text/plain": [
              "<Figure size 640x480 with 1 Axes>"
            ],
            "image/png": "[encoded data removed]"
          },
          "metadata": {}
        }
      ]
    },
    {
      "cell_type": "code",
      "source": [
        "import matplotlib.pyplot as plt\n",
        "import numpy as np\n",
        "xpoints=np.array([0,6])\n",
        "ypoints=np.array([0,250])\n",
        "plt.plot(xpoints, ypoints)\n",
        "plt.show()"
      ],
      "metadata": {
        "colab": {
          "base_uri": "https://localhost:8080/",
          "height": 430
        },
        "id": "OTzgMOJepyrQ",
        "outputId": "a48ce4ed-15cf-4367-9a2f-5d5dce6c5ca8"
      },
      "id": "OTzgMOJepyrQ",
      "execution_count": null,
      "outputs": [
        {
          "output_type": "display_data",
          "data": {
            "text/plain": [
              "<Figure size 640x480 with 1 Axes>"
            ],
            "image/png": "[encoded data removed]"
          },
          "metadata": {}
        }
      ]
    },
    {
      "cell_type": "code",
      "source": [
        "import matplotlib.pyplot as plt\n",
        "import numpy as np\n",
        "\n",
        "ypoints=np.array([3,8,1,10])\n",
        "plt.plot(ypoints,marker = 'o')\n",
        "plt.show()"
      ],
      "metadata": {
        "colab": {
          "base_uri": "https://localhost:8080/",
          "height": 430
        },
        "id": "ippOIN8Bp4As",
        "outputId": "2d2e83c2-1b4d-4cc5-e242-d52b9525a762"
      },
      "id": "ippOIN8Bp4As",
      "execution_count": null,
      "outputs": [
        {
          "output_type": "display_data",
          "data": {
            "text/plain": [
              "<Figure size 640x480 with 1 Axes>"
            ],
            "image/png": "[encoded data removed]"
          },
          "metadata": {}
        }
      ]
    },
    {
      "cell_type": "code",
      "source": [
        "import matplotlib.pyplot as plt\n",
        "import numpy as np\n",
        "\n",
        "xpoints=np.array([3,8,1,10])\n",
        "plt.plot(xpoints,marker = 'o')\n",
        "plt.show()"
      ],
      "metadata": {
        "colab": {
          "base_uri": "https://localhost:8080/",
          "height": 430
        },
        "id": "ewfi2q6Ip7zc",
        "outputId": "98c08c7a-9ef4-4109-b134-83f8444d6bd7"
      },
      "id": "ewfi2q6Ip7zc",
      "execution_count": null,
      "outputs": [
        {
          "output_type": "display_data",
          "data": {
            "text/plain": [
              "<Figure size 640x480 with 1 Axes>"
            ],
            "image/png": "[encoded data removed]"
          },
          "metadata": {}
        }
      ]
    },
    {
      "cell_type": "code",
      "source": [
        "#set the size of markers to 20\n",
        "import matplotlib.pyplot as plt\n",
        "import numpy as np\n",
        "\n",
        "ypoints=np.array([3,8,1,10])\n",
        "plt.plot(ypoints,marker = 'o',ms=20)\n",
        "plt.show()"
      ],
      "metadata": {
        "colab": {
          "base_uri": "https://localhost:8080/",
          "height": 430
        },
        "id": "V6dGe0aiqEq5",
        "outputId": "271af0f4-12d4-41c1-ef23-42718fdfa5ba"
      },
      "id": "V6dGe0aiqEq5",
      "execution_count": null,
      "outputs": [
        {
          "output_type": "display_data",
          "data": {
            "text/plain": [
              "<Figure size 640x480 with 1 Axes>"
            ],
            "image/png": "[encoded data removed]"
          },
          "metadata": {}
        }
      ]
    },
    {
      "cell_type": "code",
      "source": [
        "import matplotlib.pyplot as plt\n",
        "import numpy as np\n",
        "\n",
        "ypoints=np.array([3,8,1,10])\n",
        "plt.plot(ypoints,marker = 'o',ms=10,mec='black')\n",
        "plt.show()"
      ],
      "metadata": {
        "colab": {
          "base_uri": "https://localhost:8080/",
          "height": 430
        },
        "id": "u1YnzWZ8qHg5",
        "outputId": "8577043d-2f6a-4707-c9a4-f79896cd4f05"
      },
      "id": "u1YnzWZ8qHg5",
      "execution_count": null,
      "outputs": [
        {
          "output_type": "display_data",
          "data": {
            "text/plain": [
              "<Figure size 640x480 with 1 Axes>"
            ],
            "image/png": "[encoded data removed]"
          },
          "metadata": {}
        }
      ]
    },
    {
      "cell_type": "code",
      "source": [
        "import matplotlib.pyplot as plt\n",
        "import numpy as np\n",
        "\n",
        "ypoints=np.array([3,8,1,10])\n",
        "plt.plot(ypoints,marker = 'o',ms=10,mec='black',mfc='pink')\n",
        "plt.show()"
      ],
      "metadata": {
        "colab": {
          "base_uri": "https://localhost:8080/",
          "height": 430
        },
        "id": "wORBzrfYqKq8",
        "outputId": "315b62bc-591d-46b1-8844-2fad34522b27"
      },
      "id": "wORBzrfYqKq8",
      "execution_count": null,
      "outputs": [
        {
          "output_type": "display_data",
          "data": {
            "text/plain": [
              "<Figure size 640x480 with 1 Axes>"
            ],
            "image/png": "[encoded data removed]"
          },
          "metadata": {}
        }
      ]
    },
    {
      "cell_type": "code",
      "source": [
        "import matplotlib.pyplot as plt\n",
        "import numpy as np\n",
        "x=np.array([80,85,90,95,100,105,110,115,120,125])\n",
        "y=np.array([240,250,260,270,280,290,300,310,320,330])\n",
        "plt.plot(x, y)\n",
        "plt.xlabel(\"Average Pulse\")\n",
        "plt.ylabel(\"Calorie Burnage\")\n",
        "plt.show()"
      ],
      "metadata": {
        "colab": {
          "base_uri": "https://localhost:8080/",
          "height": 449
        },
        "id": "7yrH_QWQqNUR",
        "outputId": "19a7f486-df68-4c35-b0d4-9099a89022f8"
      },
      "id": "7yrH_QWQqNUR",
      "execution_count": null,
      "outputs": [
        {
          "output_type": "display_data",
          "data": {
            "text/plain": [
              "<Figure size 640x480 with 1 Axes>"
            ],
            "image/png": "[encoded data removed]"
          },
          "metadata": {}
        }
      ]
    },
    {
      "cell_type": "code",
      "source": [
        "import matplotlib.pyplot as plt\n",
        "import numpy as np\n",
        "x=np.array([80,85,90,95,100,105,110,115,120,125])\n",
        "y=np.array([240,250,260,270,280,290,300,310,320,330])\n",
        "plt.plot(x, y)\n",
        "plt.title(\"Sports Watch Data\")\n",
        "plt.xlabel(\"Average Pulse\")\n",
        "plt.ylabel(\"Calorie Burnage\")\n",
        "plt.show()"
      ],
      "metadata": {
        "colab": {
          "base_uri": "https://localhost:8080/",
          "height": 472
        },
        "id": "WgvDs84HqQEV",
        "outputId": "57a1ae2d-6220-4795-f807-2279f0174598"
      },
      "id": "WgvDs84HqQEV",
      "execution_count": null,
      "outputs": [
        {
          "output_type": "display_data",
          "data": {
            "text/plain": [
              "<Figure size 640x480 with 1 Axes>"
            ],
            "image/png": "[encoded data removed]"
          },
          "metadata": {}
        }
      ]
    },
    {
      "cell_type": "code",
      "source": [
        "import matplotlib.pyplot as plt\n",
        "import numpy as np\n",
        "x=np.array([80,85,90,95,100,105,110,115,120,125])\n",
        "y=np.array([240,250,260,270,280,290,300,310,320,330])\n",
        "font1={'family':'serif','color':'blue','size':20}\n",
        "font2={'family':'serif','color':'darkred','size':15}\n",
        "\n",
        "plt.title(\"Data\",fontdict=font1)\n",
        "plt.xlabel(\"Average Pulse\",fontdict=font2)\n",
        "plt.ylabel(\"Calorie Burnage\",fontdict=font2)\n",
        "plt.plot(x, y)\n",
        "plt.show()"
      ],
      "metadata": {
        "colab": {
          "base_uri": "https://localhost:8080/",
          "height": 484
        },
        "id": "j-zJAF7cqTSM",
        "outputId": "daf19067-fc3e-4103-f509-9332618ef094"
      },
      "id": "j-zJAF7cqTSM",
      "execution_count": null,
      "outputs": [
        {
          "output_type": "display_data",
          "data": {
            "text/plain": [
              "<Figure size 640x480 with 1 Axes>"
            ],
            "image/png": "[encoded data removed]"
          },
          "metadata": {}
        }
      ]
    },
    {
      "cell_type": "code",
      "source": [
        "import matplotlib.pyplot as plt\n",
        "import numpy as np\n",
        "x=np.array([80,85,90,95,100,105,110,115,120,125])\n",
        "y=np.array([240,250,260,270,280,290,300,310,320,330])\n",
        "font1={'family':'serif','color':'RED','size':20}\n",
        "font2={'family':'serif','color':'black','size':15}\n",
        "\n",
        "plt.title(\"Sports Watch Data\",fontdict=font1,loc='left')\n",
        "plt.xlabel(\"Average Pulse\",fontdict=font2)\n",
        "plt.ylabel(\"Calorie Burnage\",fontdict=font2)\n",
        "plt.plot(x, y)\n",
        "plt.show()"
      ],
      "metadata": {
        "colab": {
          "base_uri": "https://localhost:8080/",
          "height": 484
        },
        "id": "9unhrRGjqV3J",
        "outputId": "e59cf9de-cf36-4dd2-c36e-7bb0883f69a5"
      },
      "id": "9unhrRGjqV3J",
      "execution_count": null,
      "outputs": [
        {
          "output_type": "display_data",
          "data": {
            "text/plain": [
              "<Figure size 640x480 with 1 Axes>"
            ],
            "image/png": "[encoded data removed]"
          },
          "metadata": {}
        }
      ]
    },
    {
      "cell_type": "code",
      "source": [
        "#Adding GRID LINESS\n",
        "import matplotlib.pyplot as plt\n",
        "import numpy as np\n",
        "x=np.array([80,85,90,95,100,105,110,115,120,125])\n",
        "y=np.array([240,250,260,270,280,290,300,310,320,330])\n",
        "font1={'family':'serif','color':'blue','size':20}\n",
        "font2={'family':'serif','color':'darkred','size':15}\n",
        "\n",
        "plt.title(\"Data\",fontdict=font1)\n",
        "plt.xlabel(\"Average Pulse\",fontdict=font2)\n",
        "plt.ylabel(\"Calorie Burnage\",fontdict=font2)\n",
        "plt.plot(x, y)\n",
        "plt.grid()\n",
        "plt.show()"
      ],
      "metadata": {
        "colab": {
          "base_uri": "https://localhost:8080/",
          "height": 484
        },
        "id": "twZ3h87IqZG1",
        "outputId": "9b51bb5f-0843-463b-e4f2-444d0b1fd304"
      },
      "id": "twZ3h87IqZG1",
      "execution_count": null,
      "outputs": [
        {
          "output_type": "display_data",
          "data": {
            "text/plain": [
              "<Figure size 640x480 with 1 Axes>"
            ],
            "image/png": "[encoded data removed]"
          },
          "metadata": {}
        }
      ]
    },
    {
      "cell_type": "code",
      "source": [
        "import matplotlib.pyplot as plt\n",
        "import numpy as np\n",
        "x=np.array([80,85,90,95,100,105,110,115,120,125])\n",
        "y=np.array([240,250,260,270,280,290,300,310,320,330])\n",
        "font1={'family':'serif','color':'blue','size':20}\n",
        "font2={'family':'serif','color':'darkred','size':15}\n",
        "\n",
        "plt.title(\"Data\",fontdict=font1)\n",
        "plt.xlabel(\"Average Pulse\",fontdict=font2)\n",
        "plt.ylabel(\"Calorie Burnage\",fontdict=font2)\n",
        "plt.plot(x, y)\n",
        "plt.grid(axis='x')\n",
        "plt.show()"
      ],
      "metadata": {
        "colab": {
          "base_uri": "https://localhost:8080/",
          "height": 484
        },
        "id": "joccFh_hqb7f",
        "outputId": "151f9593-31cc-40cf-ec5e-87901c121298"
      },
      "id": "joccFh_hqb7f",
      "execution_count": null,
      "outputs": [
        {
          "output_type": "display_data",
          "data": {
            "text/plain": [
              "<Figure size 640x480 with 1 Axes>"
            ],
            "image/png": "[encoded data removed]"
          },
          "metadata": {}
        }
      ]
    },
    {
      "cell_type": "code",
      "source": [
        "import matplotlib.pyplot as plt\n",
        "import numpy as np\n",
        "x=np.array([80,85,90,95,100,105,110,115,120,125])\n",
        "y=np.array([240,250,260,270,280,290,300,310,320,330])\n",
        "font1={'family':'serif','color':'Red','size':20}\n",
        "font2={'family':'serif','color':'black','size':15}\n",
        "\n",
        "plt.title(\"Data\",fontdict=font1)\n",
        "plt.xlabel(\"Average Pulse\",fontdict=font2)\n",
        "plt.ylabel(\"Calorie Burnage\",fontdict=font2)\n",
        "plt.plot(x, y)\n",
        "plt.grid(color='yellow',linestyle='--',linewidth=0.9)\n",
        "plt.show()"
      ],
      "metadata": {
        "colab": {
          "base_uri": "https://localhost:8080/",
          "height": 484
        },
        "id": "Q9f1XswGqerS",
        "outputId": "8ffaa5f7-b3f1-409e-d855-a35c04d94453"
      },
      "id": "Q9f1XswGqerS",
      "execution_count": null,
      "outputs": [
        {
          "output_type": "display_data",
          "data": {
            "text/plain": [
              "<Figure size 640x480 with 1 Axes>"
            ],
            "image/png": "[encoded data removed]"
          },
          "metadata": {}
        }
      ]
    },
    {
      "cell_type": "code",
      "source": [
        "import matplotlib.pyplot as plt\n",
        "import numpy as np\n",
        "#plot1\n",
        "x=np.array([0,1,2,3])\n",
        "y=np.array([3,8,1,10])\n",
        "plt.subplot(1,2,1)\n",
        "plt.plot(x,y)\n",
        "#plot2\n",
        "x=np.array([0,1,2,3])\n",
        "y=np.array([10,20,30,40])\n",
        "plt.subplot(1,2,2)\n",
        "plt.plot(x,y)"
      ],
      "metadata": {
        "colab": {
          "base_uri": "https://localhost:8080/",
          "height": 447
        },
        "id": "AWrPiMKCqjLg",
        "outputId": "8ce33ed4-e14b-47fd-80b3-ff4c1b1a0cea"
      },
      "id": "AWrPiMKCqjLg",
      "execution_count": null,
      "outputs": [
        {
          "output_type": "execute_result",
          "data": {
            "text/plain": [
              "[<matplotlib.lines.Line2D at 0x7e13a84d7590>]"
            ]
          },
          "metadata": {},
          "execution_count": 24
        },
        {
          "output_type": "display_data",
          "data": {
            "text/plain": [
              "<Figure size 640x480 with 2 Axes>"
            ],
            "image/png": "[encoded data removed]"
          },
          "metadata": {}
        }
      ]
    },
    {
      "cell_type": "code",
      "source": [
        "import matplotlib.pyplot as plt\n",
        "import numpy as np\n",
        "#plot1\n",
        "x=np.array([0,1,2,3])\n",
        "y=np.array([3,8,1,10])\n",
        "plt.subplot(1,6,1)\n",
        "plt.plot(x,y)\n",
        "#plot2\n",
        "x=np.array([0,1,2,3])\n",
        "y=np.array([10,20,30,40])\n",
        "plt.subplot(1,6,2)\n",
        "plt.plot(x,y)\n",
        "#plot3\n",
        "x=np.array([0,1,2,3])\n",
        "y=np.array([10,20,30,40])\n",
        "plt.subplot(1,6,3)\n",
        "plt.plot(x,y)\n",
        "#plot4\n",
        "x=np.array([0,1,2,3])\n",
        "y=np.array([10,20,30,40])\n",
        "plt.subplot(1,6,4)\n",
        "plt.plot(x,y)\n",
        "#plot5\n",
        "x=np.array([0,1,2,3])\n",
        "y=np.array([10,20,30,40])\n",
        "plt.subplot(1,6,5)\n",
        "plt.plot(x,y)\n",
        "#plot6\n",
        "x=np.array([0,1,2,3])\n",
        "y=np.array([10,20,30,40])\n",
        "plt.subplot(1,6,6)\n",
        "plt.plot(x,y)"
      ],
      "metadata": {
        "colab": {
          "base_uri": "https://localhost:8080/",
          "height": 447
        },
        "id": "wflD2PgtqkSX",
        "outputId": "d4dfba15-c797-4999-ae49-511c97448954"
      },
      "id": "wflD2PgtqkSX",
      "execution_count": null,
      "outputs": [
        {
          "output_type": "execute_result",
          "data": {
            "text/plain": [
              "[<matplotlib.lines.Line2D at 0x7e13a841c9d0>]"
            ]
          },
          "metadata": {},
          "execution_count": 25
        },
        {
          "output_type": "display_data",
          "data": {
            "text/plain": [
              "<Figure size 640x480 with 6 Axes>"
            ],
            "image/png": "[encoded data removed]"
          },
          "metadata": {}
        }
      ]
    },
    {
      "cell_type": "code",
      "source": [
        "import matplotlib.pyplot as plt\n",
        "import numpy as np\n",
        "#plot1\n",
        "x=np.array([0,1,2,3])\n",
        "y=np.array([3,8,1,10])\n",
        "plt.subplot(1,9,1)\n",
        "plt.plot(x,y)\n",
        "#plot2\n",
        "x=np.array([0,1,2,3])\n",
        "y=np.array([10,20,30,40])\n",
        "plt.subplot(1,9,2)\n",
        "plt.plot(x,y)\n",
        "#plot3\n",
        "x=np.array([0,1,2,3])\n",
        "y=np.array([10,20,15,30])\n",
        "plt.subplot(1,9,3)\n",
        "plt.plot(x,y)\n",
        "#plot4\n",
        "x=np.array([0,1,2,3])\n",
        "y=np.array([10,20,30,40])\n",
        "plt.subplot(1,9,4)\n",
        "plt.plot(x,y)\n",
        "#plot5\n",
        "x=np.array([0,1,2,3])\n",
        "y=np.array([10,20,15,30])\n",
        "plt.subplot(1,9,5)\n",
        "plt.plot(x,y)\n",
        "#plot6\n",
        "x=np.array([0,1,2,3])\n",
        "y=np.array([10,20,30,40])\n",
        "plt.subplot(1,9,6)\n",
        "plt.plot(x,y)\n",
        "#plot7\n",
        "x=np.array([0,1,2,3])\n",
        "y=np.array([10,20,15,30])\n",
        "plt.subplot(1,9,7)\n",
        "plt.plot(x,y)\n",
        "#plot8\n",
        "x=np.array([0,1,2,3])\n",
        "y=np.array([10,20,30,40])\n",
        "plt.subplot(1,9,8)\n",
        "plt.plot(x,y)\n",
        "#plot9\n",
        "x=np.array([0,1,2,3])\n",
        "y=np.array([10,20,15,30])\n",
        "plt.subplot(1,9,9)\n",
        "plt.plot(x,y)"
      ],
      "metadata": {
        "colab": {
          "base_uri": "https://localhost:8080/",
          "height": 447
        },
        "id": "Omb6MOJ9qvkh",
        "outputId": "291d3ac6-d462-481a-83bd-6fad50f57ebd"
      },
      "id": "Omb6MOJ9qvkh",
      "execution_count": null,
      "outputs": [
        {
          "output_type": "execute_result",
          "data": {
            "text/plain": [
              "[<matplotlib.lines.Line2D at 0x7e13a8281490>]"
            ]
          },
          "metadata": {},
          "execution_count": 26
        },
        {
          "output_type": "display_data",
          "data": {
            "text/plain": [
              "<Figure size 640x480 with 9 Axes>"
            ],
            "image/png": "[encoded data removed]"
          },
          "metadata": {}
        }
      ]
    },
    {
      "cell_type": "code",
      "source": [
        "import matplotlib.pyplot as plt\n",
        "import numpy as np\n",
        "x=np.array([5,7,8,7,2,17,2,9,4,11,12,9,6])\n",
        "y=np.array([99,86,87,88,111,86,103,87,94,78,77,85,86])\n",
        "plt.scatter(x,y)\n",
        "plt.show()"
      ],
      "metadata": {
        "colab": {
          "base_uri": "https://localhost:8080/",
          "height": 430
        },
        "id": "I69vJdklqwat",
        "outputId": "01e064bb-bd04-4d4a-b609-78022e17396a"
      },
      "id": "I69vJdklqwat",
      "execution_count": null,
      "outputs": [
        {
          "output_type": "display_data",
          "data": {
            "text/plain": [
              "<Figure size 640x480 with 1 Axes>"
            ],
            "image/png": "[encoded data removed]"
          },
          "metadata": {}
        }
      ]
    },
    {
      "cell_type": "code",
      "source": [
        "import matplotlib.pyplot as plt\n",
        "import numpy as np\n",
        "#day one, the age and speed of 13 cars\n",
        "x=np.array([5,7,8,7,2,17,2,9,4,11,12,9,6])\n",
        "y=np.array([99,86,87,88,111,86,103,87,94,78,77,85,86])\n",
        "plt.scatter(x,y)\n",
        "#day one, the age and speed of 15 cars\n",
        "x = np.array([2,29,8,1,15,3,12, 28])\n",
        "y = np.array([77,55,85,75,111,86,57,80])\n",
        "plt.scatter(x,y)\n",
        "plt.show()"
      ],
      "metadata": {
        "colab": {
          "base_uri": "https://localhost:8080/",
          "height": 430
        },
        "id": "l3myl6Nbqz3q",
        "outputId": "38a0aa67-10c3-4d56-8c7b-ab045279b5b6"
      },
      "id": "l3myl6Nbqz3q",
      "execution_count": null,
      "outputs": [
        {
          "output_type": "display_data",
          "data": {
            "text/plain": [
              "<Figure size 640x480 with 1 Axes>"
            ],
            "image/png": "[encoded data removed]"
          },
          "metadata": {}
        }
      ]
    },
    {
      "cell_type": "code",
      "source": [
        "import matplotlib.pyplot as plt\n",
        "import numpy as np\n",
        "x=np.array(['A','B','C','D'])\n",
        "y=np.array([3,8,1,10])\n",
        "plt.bar(x,y)\n",
        "plt.show()"
      ],
      "metadata": {
        "colab": {
          "base_uri": "https://localhost:8080/",
          "height": 430
        },
        "id": "aD_MceSEq39j",
        "outputId": "b01124e9-da6f-4cac-9b53-bf9113be8843"
      },
      "id": "aD_MceSEq39j",
      "execution_count": null,
      "outputs": [
        {
          "output_type": "display_data",
          "data": {
            "text/plain": [
              "<Figure size 640x480 with 1 Axes>"
            ],
            "image/png": "[encoded data removed]"
          },
          "metadata": {}
        }
      ]
    },
    {
      "cell_type": "code",
      "source": [
        "import matplotlib.pyplot as plt\n",
        "import numpy as np\n",
        "x=np.array(['A','B','C','D'])\n",
        "y=np.array([3,8,1,10])\n",
        "plt.barh(x,y)\n",
        "plt.show()"
      ],
      "metadata": {
        "colab": {
          "base_uri": "https://localhost:8080/",
          "height": 430
        },
        "id": "3Ya7FuOPq4_k",
        "outputId": "e515e545-4c12-4eb9-96ee-a7fa2c32ff70"
      },
      "id": "3Ya7FuOPq4_k",
      "execution_count": null,
      "outputs": [
        {
          "output_type": "display_data",
          "data": {
            "text/plain": [
              "<Figure size 640x480 with 1 Axes>"
            ],
            "image/png": "[encoded data removed]"
          },
          "metadata": {}
        }
      ]
    },
    {
      "cell_type": "code",
      "source": [
        "import matplotlib.pyplot as plt\n",
        "import numpy as np\n",
        "x=np.array(['A','B','C','D'])\n",
        "y=np.array([3,8,1,10])\n",
        "plt.bar(x,y,color='red')\n",
        "plt.show()"
      ],
      "metadata": {
        "colab": {
          "base_uri": "https://localhost:8080/",
          "height": 430
        },
        "id": "g8EbTxDiq9la",
        "outputId": "c338f2ae-754e-4807-9af9-aa317a2cb203"
      },
      "id": "g8EbTxDiq9la",
      "execution_count": null,
      "outputs": [
        {
          "output_type": "display_data",
          "data": {
            "text/plain": [
              "<Figure size 640x480 with 1 Axes>"
            ],
            "image/png": "[encoded data removed]"
          },
          "metadata": {}
        }
      ]
    },
    {
      "cell_type": "code",
      "source": [
        "import matplotlib.pyplot as plt\n",
        "import numpy as np\n",
        "x=np.array(['A','B','C','D'])\n",
        "y=np.array([3,8,1,10])\n",
        "plt.bar(x,y,color='red',width=0.1)\n",
        "plt.show()"
      ],
      "metadata": {
        "colab": {
          "base_uri": "https://localhost:8080/",
          "height": 430
        },
        "id": "8CvkMwgSq-1c",
        "outputId": "f1294456-09c9-401a-c813-270a209f9be5"
      },
      "id": "8CvkMwgSq-1c",
      "execution_count": null,
      "outputs": [
        {
          "output_type": "display_data",
          "data": {
            "text/plain": [
              "<Figure size 640x480 with 1 Axes>"
            ],
            "image/png": "[encoded data removed]"
          },
          "metadata": {}
        }
      ]
    },
    {
      "cell_type": "code",
      "source": [
        "import matplotlib.pyplot as plt\n",
        "import numpy as np\n",
        "x=np.array(['A','B','C','D'])\n",
        "y=np.array([3,8,1,10])\n",
        "plt.barh(x,y,color='red',height=0.1)\n",
        "plt.show()"
      ],
      "metadata": {
        "colab": {
          "base_uri": "https://localhost:8080/",
          "height": 430
        },
        "id": "lGFAd8jrrBqC",
        "outputId": "e3a72b0e-8f42-4bc9-848d-81efd17c403d"
      },
      "id": "lGFAd8jrrBqC",
      "execution_count": null,
      "outputs": [
        {
          "output_type": "display_data",
          "data": {
            "text/plain": [
              "<Figure size 640x480 with 1 Axes>"
            ],
            "image/png": "[encoded data removed]"
          },
          "metadata": {}
        }
      ]
    },
    {
      "cell_type": "code",
      "source": [
        "import matplotlib.pyplot as plt\n",
        "import numpy as np\n",
        "barWidth=0.25\n",
        "fig=plt.subplots(figsize=(12,8))\n",
        "IT=[12,30,1,8,22]\n",
        "ECE=[28,6,16,5,10]\n",
        "CSE=[29,3,24,25,17]\n",
        "br1=np.arange(len(IT))\n",
        "br2=[x+barWidth for x in br1]\n",
        "br3=[x+barWidth for x in br2]\n",
        "plt.bar(br1,IT,color='r',width=barWidth,edgecolor='grey',label='IT')\n",
        "plt.bar(br2,ECE,color='g',width=barWidth,edgecolor='grey',label='ECE')\n",
        "plt.bar(br3,CSE,color='b',width=barWidth,edgecolor='grey',label='CSE')\n",
        "plt.xlabel('Branch',fontweight='bold',fontsize=15)\n",
        "plt.ylabel('Students Passed ',fontweight='bold',fontsize=15)\n",
        "plt.xticks([r+barWidth for r in range(len(IT))],['2015','2016','2017','2018','2019'])\n",
        "plt.legend()\n",
        "plt.show()"
      ],
      "metadata": {
        "colab": {
          "base_uri": "https://localhost:8080/",
          "height": 702
        },
        "id": "4sL9IY6krGeO",
        "outputId": "0bef2af5-c083-46cc-a5bc-d1e7703679f0"
      },
      "id": "4sL9IY6krGeO",
      "execution_count": null,
      "outputs": [
        {
          "output_type": "display_data",
          "data": {
            "text/plain": [
              "<Figure size 1200x800 with 1 Axes>"
            ],
            "image/png": "[encoded data removed]"
          },
          "metadata": {}
        }
      ]
    },
    {
      "cell_type": "code",
      "source": [
        "import matplotlib.pyplot as plt\n",
        "import numpy as np\n",
        "barWidth=0.25\n",
        "barHeight = 0.25\n",
        "fig=plt.subplots(figsize=(12,8))\n",
        "IT=[12,30,1,8,22]\n",
        "ECE=[28,6,16,5,10]\n",
        "CSE=[29,3,24,25,17]\n",
        "br1=np.arange(len(IT))\n",
        "br2=[x+barWidth for x in br1]\n",
        "br3=[x+barWidth for x in br2]\n",
        "plt.bar(br1,IT,color='r',width=barWidth,edgecolor='grey',label='IT')\n",
        "plt.bar(br2,ECE,color='g',width=barWidth,edgecolor='grey',label='ECE')\n",
        "plt.bar(br3,CSE,color='b',width=barWidth,edgecolor='grey',label='CSE')\n",
        "plt.barh(br1,IT,color='yellow',height=barHeight,edgecolor='grey',label='ME')\n",
        "plt.barh(br2,ECE,color='pink',height=barHeight,edgecolor='grey',label='ECM')\n",
        "plt.barh(br3,CSE,color='hotpink',height=barHeight,edgecolor='grey',label='CE')\n",
        "plt.xlabel('Branch',fontweight='bold',fontsize=15)\n",
        "plt.ylabel('Students Passed ',fontweight='bold',fontsize=15)\n",
        "plt.xticks([r+barWidth for r in range(len(IT))],['2015','2016','2017','2018','2019'])\n",
        "plt.legend()\n",
        "plt.show()"
      ],
      "metadata": {
        "colab": {
          "base_uri": "https://localhost:8080/",
          "height": 702
        },
        "id": "fx8uQMsMrJuZ",
        "outputId": "8f89d963-7ef6-403c-a59c-d03c23aec07c"
      },
      "id": "fx8uQMsMrJuZ",
      "execution_count": null,
      "outputs": [
        {
          "output_type": "display_data",
          "data": {
            "text/plain": [
              "<Figure size 1200x800 with 1 Axes>"
            ],
            "image/png": "[encoded data removed]"
          },
          "metadata": {}
        }
      ]
    },
    {
      "cell_type": "code",
      "source": [
        "import numpy as np\n",
        "import matplotlib.pyplot as plt\n",
        "N=5\n",
        "boys=(20,35,30,35,27)\n",
        "girls=(25,32,34,20,25)\n",
        "boyStd=(2,3,4,1,2)\n",
        "girlStd=(3,5,2,3,3)\n",
        "ind=np.arange(N)\n",
        "width=0.35\n",
        "fig=plt.subplots(figsize=(10,7))\n",
        "p1=plt.bar(ind,boys,width,color='r',yerr=boyStd)\n",
        "p2=plt.bar(ind,girls,width,bottom=boys,color='b',yerr=girlStd)\n",
        "plt.ylabel('Contribution')\n",
        "plt.title('Contribution by the teams')\n",
        "plt.xticks(ind,('T1','T2','T3','T4','T5'))\n",
        "plt.yticks(np.arange(0,81,10))\n",
        "plt.legend((p1[0],p2[0]),('Boys','Girls'))\n",
        "plt.show()"
      ],
      "metadata": {
        "colab": {
          "base_uri": "https://localhost:8080/",
          "height": 622
        },
        "id": "sqi6OuC0rLoq",
        "outputId": "9731e0f9-2bb8-4169-8fb5-a0bd2c3c193d"
      },
      "id": "sqi6OuC0rLoq",
      "execution_count": null,
      "outputs": [
        {
          "output_type": "display_data",
          "data": {
            "text/plain": [
              "<Figure size 1000x700 with 1 Axes>"
            ],
            "image/png": "[encoded data removed]"
          },
          "metadata": {}
        }
      ]
    },
    {
      "cell_type": "code",
      "source": [
        "import matplotlib.pyplot as plt\n",
        "x = ['A','B','C','D']\n",
        "y1 = [10,20,10,30]\n",
        "y2 = [20,25,15,25]\n",
        "plt.bar(x,y1, color='r')\n",
        "plt.bar(x,y2, bottom=y1, color='b')\n",
        "plt.show()"
      ],
      "metadata": {
        "colab": {
          "base_uri": "https://localhost:8080/",
          "height": 430
        },
        "id": "2QoFE1SbrQBV",
        "outputId": "05fa872c-36d7-4e70-c037-79f4d8543657"
      },
      "id": "2QoFE1SbrQBV",
      "execution_count": null,
      "outputs": [
        {
          "output_type": "display_data",
          "data": {
            "text/plain": [
              "<Figure size 640x480 with 1 Axes>"
            ],
            "image/png": "[encoded data removed]"
          },
          "metadata": {}
        }
      ]
    }
  ],
  "metadata": {
    "kernelspec": {
      "display_name": "Python 3 (ipykernel)",
      "language": "python",
      "name": "python3"
    },
    "language_info": {
      "codemirror_mode": {
        "name": "ipython",
        "version": 3
      },
      "file_extension": ".py",
      "mimetype": "text/x-python",
      "name": "python",
      "nbconvert_exporter": "python",
      "pygments_lexer": "ipython3",
      "version": "3.12.7"
    },
    "colab": {
      "provenance": [],
      "include_colab_link": true
    }
  },
  "nbformat": 4,
  "nbformat_minor": 5
}