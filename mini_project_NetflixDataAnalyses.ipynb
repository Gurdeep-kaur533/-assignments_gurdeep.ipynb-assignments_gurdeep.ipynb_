{
  "cells": [
    {
      "cell_type": "markdown",
      "metadata": {
        "id": "view-in-github",
        "colab_type": "text"
      },
      "source": [
        "<a href=\"https://colab.research.google.com/github/Gurdeep-kaur533/-assignments_gurdeep.ipynb-assignments_gurdeep.ipynb_/blob/main/mini_project_NetflixDataAnalyses.ipynb\" target=\"_parent\"><img src=\"https://colab.research.google.com/assets/colab-badge.svg\" alt=\"Open In Colab\"/></a>"
      ]
    },
    {
      "cell_type": "markdown",
      "id": "94971eed-f4f5-4218-95f5-a8bbfae134fe",
      "metadata": {
        "id": "94971eed-f4f5-4218-95f5-a8bbfae134fe"
      },
      "source": [
        "#### 1. Load and Explore the Dataset:\n",
        "#### - Import the CSV file using Pandas\n",
        "#### - Display the shape, columns, and data types\n",
        "#### - Show the first few records to understand the structure"
      ]
    },
    {
      "cell_type": "code",
      "source": [
        "from google.colab import files\n",
        "uploaded = files.upload()"
      ],
      "metadata": {
        "colab": {
          "base_uri": "https://localhost:8080/",
          "height": 73
        },
        "id": "jgAycdXxEQHj",
        "outputId": "a0faae6f-9d6c-4dc7-8bc7-1b353479d693"
      },
      "id": "jgAycdXxEQHj",
      "execution_count": 3,
      "outputs": [
        {
          "output_type": "display_data",
          "data": {
            "text/plain": [
              "<IPython.core.display.HTML object>"
            ],
            "text/html": [
              "\n",
              "     <input type=\"file\" id=\"files-868235ee-6ae3-4aee-b38c-c522ed969e9f\" name=\"files[]\" multiple disabled\n",
              "        style=\"border:none\" />\n",
              "     <output id=\"result-868235ee-6ae3-4aee-b38c-c522ed969e9f\">\n",
              "      Upload widget is only available when the cell has been executed in the\n",
              "      current browser session. Please rerun this cell to enable.\n",
              "      </output>\n",
              "      <script>// Copyright 2017 Google LLC\n",
              "//\n",
              "// Licensed under the Apache License, Version 2.0 (the \"License\");\n",
              "// you may not use this file except in compliance with the License.\n",
              "// You may obtain a copy of the License at\n",
              "//\n",
              "//      http://www.apache.org/licenses/LICENSE-2.0\n",
              "//\n",
              "// Unless required by applicable law or agreed to in writing, software\n",
              "// distributed under the License is distributed on an \"AS IS\" BASIS,\n",
              "// WITHOUT WARRANTIES OR CONDITIONS OF ANY KIND, either express or implied.\n",
              "// See the License for the specific language governing permissions and\n",
              "// limitations under the License.\n",
              "\n",
              "/**\n",
              " * @fileoverview Helpers for google.colab Python module.\n",
              " */\n",
              "(function(scope) {\n",
              "function span(text, styleAttributes = {}) {\n",
              "  const element = document.createElement('span');\n",
              "  element.textContent = text;\n",
              "  for (const key of Object.keys(styleAttributes)) {\n",
              "    element.style[key] = styleAttributes[key];\n",
              "  }\n",
              "  return element;\n",
              "}\n",
              "\n",
              "// Max number of bytes which will be uploaded at a time.\n",
              "const MAX_PAYLOAD_SIZE = 100 * 1024;\n",
              "\n",
              "function _uploadFiles(inputId, outputId) {\n",
              "  const steps = uploadFilesStep(inputId, outputId);\n",
              "  const outputElement = document.getElementById(outputId);\n",
              "  // Cache steps on the outputElement to make it available for the next call\n",
              "  // to uploadFilesContinue from Python.\n",
              "  outputElement.steps = steps;\n",
              "\n",
              "  return _uploadFilesContinue(outputId);\n",
              "}\n",
              "\n",
              "// This is roughly an async generator (not supported in the browser yet),\n",
              "// where there are multiple asynchronous steps and the Python side is going\n",
              "// to poll for completion of each step.\n",
              "// This uses a Promise to block the python side on completion of each step,\n",
              "// then passes the result of the previous step as the input to the next step.\n",
              "function _uploadFilesContinue(outputId) {\n",
              "  const outputElement = document.getElementById(outputId);\n",
              "  const steps = outputElement.steps;\n",
              "\n",
              "  const next = steps.next(outputElement.lastPromiseValue);\n",
              "  return Promise.resolve(next.value.promise).then((value) => {\n",
              "    // Cache the last promise value to make it available to the next\n",
              "    // step of the generator.\n",
              "    outputElement.lastPromiseValue = value;\n",
              "    return next.value.response;\n",
              "  });\n",
              "}\n",
              "\n",
              "/**\n",
              " * Generator function which is called between each async step of the upload\n",
              " * process.\n",
              " * @param {string} inputId Element ID of the input file picker element.\n",
              " * @param {string} outputId Element ID of the output display.\n",
              " * @return {!Iterable<!Object>} Iterable of next steps.\n",
              " */\n",
              "function* uploadFilesStep(inputId, outputId) {\n",
              "  const inputElement = document.getElementById(inputId);\n",
              "  inputElement.disabled = false;\n",
              "\n",
              "  const outputElement = document.getElementById(outputId);\n",
              "  outputElement.innerHTML = '';\n",
              "\n",
              "  const pickedPromise = new Promise((resolve) => {\n",
              "    inputElement.addEventListener('change', (e) => {\n",
              "      resolve(e.target.files);\n",
              "    });\n",
              "  });\n",
              "\n",
              "  const cancel = document.createElement('button');\n",
              "  inputElement.parentElement.appendChild(cancel);\n",
              "  cancel.textContent = 'Cancel upload';\n",
              "  const cancelPromise = new Promise((resolve) => {\n",
              "    cancel.onclick = () => {\n",
              "      resolve(null);\n",
              "    };\n",
              "  });\n",
              "\n",
              "  // Wait for the user to pick the files.\n",
              "  const files = yield {\n",
              "    promise: Promise.race([pickedPromise, cancelPromise]),\n",
              "    response: {\n",
              "      action: 'starting',\n",
              "    }\n",
              "  };\n",
              "\n",
              "  cancel.remove();\n",
              "\n",
              "  // Disable the input element since further picks are not allowed.\n",
              "  inputElement.disabled = true;\n",
              "\n",
              "  if (!files) {\n",
              "    return {\n",
              "      response: {\n",
              "        action: 'complete',\n",
              "      }\n",
              "    };\n",
              "  }\n",
              "\n",
              "  for (const file of files) {\n",
              "    const li = document.createElement('li');\n",
              "    li.append(span(file.name, {fontWeight: 'bold'}));\n",
              "    li.append(span(\n",
              "        `(${file.type || 'n/a'}) - ${file.size} bytes, ` +\n",
              "        `last modified: ${\n",
              "            file.lastModifiedDate ? file.lastModifiedDate.toLocaleDateString() :\n",
              "                                    'n/a'} - `));\n",
              "    const percent = span('0% done');\n",
              "    li.appendChild(percent);\n",
              "\n",
              "    outputElement.appendChild(li);\n",
              "\n",
              "    const fileDataPromise = new Promise((resolve) => {\n",
              "      const reader = new FileReader();\n",
              "      reader.onload = (e) => {\n",
              "        resolve(e.target.result);\n",
              "      };\n",
              "      reader.readAsArrayBuffer(file);\n",
              "    });\n",
              "    // Wait for the data to be ready.\n",
              "    let fileData = yield {\n",
              "      promise: fileDataPromise,\n",
              "      response: {\n",
              "        action: 'continue',\n",
              "      }\n",
              "    };\n",
              "\n",
              "    // Use a chunked sending to avoid message size limits. See b/62115660.\n",
              "    let position = 0;\n",
              "    do {\n",
              "      const length = Math.min(fileData.byteLength - position, MAX_PAYLOAD_SIZE);\n",
              "      const chunk = new Uint8Array(fileData, position, length);\n",
              "      position += length;\n",
              "\n",
              "      const base64 = btoa(String.fromCharCode.apply(null, chunk));\n",
              "      yield {\n",
              "        response: {\n",
              "          action: 'append',\n",
              "          file: file.name,\n",
              "          data: base64,\n",
              "        },\n",
              "      };\n",
              "\n",
              "      let percentDone = fileData.byteLength === 0 ?\n",
              "          100 :\n",
              "          Math.round((position / fileData.byteLength) * 100);\n",
              "      percent.textContent = `${percentDone}% done`;\n",
              "\n",
              "    } while (position < fileData.byteLength);\n",
              "  }\n",
              "\n",
              "  // All done.\n",
              "  yield {\n",
              "    response: {\n",
              "      action: 'complete',\n",
              "    }\n",
              "  };\n",
              "}\n",
              "\n",
              "scope.google = scope.google || {};\n",
              "scope.google.colab = scope.google.colab || {};\n",
              "scope.google.colab._files = {\n",
              "  _uploadFiles,\n",
              "  _uploadFilesContinue,\n",
              "};\n",
              "})(self);\n",
              "</script> "
            ]
          },
          "metadata": {}
        },
        {
          "output_type": "stream",
          "name": "stdout",
          "text": [
            "Saving netflix_titles.csv to netflix_titles (1).csv\n"
          ]
        }
      ]
    },
    {
      "cell_type": "code",
      "execution_count": 12,
      "id": "f03270f7-57cd-4247-ad3b-a788be4fa993",
      "metadata": {
        "colab": {
          "base_uri": "https://localhost:8080/"
        },
        "id": "f03270f7-57cd-4247-ad3b-a788be4fa993",
        "outputId": "d1e0efbd-ef7b-41b3-dd04-130f03275d5d"
      },
      "outputs": [
        {
          "output_type": "stream",
          "name": "stdout",
          "text": [
            "(8807, 12)\n",
            "Index(['show_id', 'type', 'title', 'director', 'cast', 'country', 'date_added',\n",
            "       'release_year', 'rating', 'duration', 'listed_in', 'description'],\n",
            "      dtype='object')\n",
            "show_id         object\n",
            "type            object\n",
            "title           object\n",
            "director        object\n",
            "cast            object\n",
            "country         object\n",
            "date_added      object\n",
            "release_year     int64\n",
            "rating          object\n",
            "duration        object\n",
            "listed_in       object\n",
            "description     object\n",
            "dtype: object\n",
            "  show_id     type                  title         director  \\\n",
            "0      s1    Movie   Dick Johnson Is Dead  Kirsten Johnson   \n",
            "1      s2  TV Show          Blood & Water              NaN   \n",
            "2      s3  TV Show              Ganglands  Julien Leclercq   \n",
            "3      s4  TV Show  Jailbirds New Orleans              NaN   \n",
            "4      s5  TV Show           Kota Factory              NaN   \n",
            "\n",
            "                                                cast        country  \\\n",
            "0                                                NaN  United States   \n",
            "1  Ama Qamata, Khosi Ngema, Gail Mabalane, Thaban...   South Africa   \n",
            "2  Sami Bouajila, Tracy Gotoas, Samuel Jouy, Nabi...            NaN   \n",
            "3                                                NaN            NaN   \n",
            "4  Mayur More, Jitendra Kumar, Ranjan Raj, Alam K...          India   \n",
            "\n",
            "           date_added  release_year rating   duration  \\\n",
            "0  September 25, 2021          2020  PG-13     90 min   \n",
            "1  September 24, 2021          2021  TV-MA  2 Seasons   \n",
            "2  September 24, 2021          2021  TV-MA   1 Season   \n",
            "3  September 24, 2021          2021  TV-MA   1 Season   \n",
            "4  September 24, 2021          2021  TV-MA  2 Seasons   \n",
            "\n",
            "                                           listed_in  \\\n",
            "0                                      Documentaries   \n",
            "1    International TV Shows, TV Dramas, TV Mysteries   \n",
            "2  Crime TV Shows, International TV Shows, TV Act...   \n",
            "3                             Docuseries, Reality TV   \n",
            "4  International TV Shows, Romantic TV Shows, TV ...   \n",
            "\n",
            "                                         description  \n",
            "0  As her father nears the end of his life, filmm...  \n",
            "1  After crossing paths at a party, a Cape Town t...  \n",
            "2  To protect his family from a powerful drug lor...  \n",
            "3  Feuds, flirtations and toilet talk go down amo...  \n",
            "4  In a city of coaching centers known to train I...  \n"
          ]
        }
      ],
      "source": [
        "# Load and Explore the Dataset\n",
        "import pandas as pd\n",
        "df = pd.read_csv(\"netflix_titles.csv\")\n",
        "print(df.shape)\n",
        "print(df.columns)\n",
        "print(df.dtypes)\n",
        "print(df.head(5))"
      ]
    },
    {
      "cell_type": "markdown",
      "id": "3fad1dd1-5480-4351-a31f-ea814caab488",
      "metadata": {
        "id": "3fad1dd1-5480-4351-a31f-ea814caab488"
      },
      "source": [
        "#### 2. Data Cleaning:\n",
        "#### - Check and handle missing values appropriately\n",
        "#### - Convert 'date_added' to datetime format\n",
        "#### - Extract year from 'date_added' and store in a new column"
      ]
    },
    {
      "cell_type": "code",
      "execution_count": 13,
      "id": "fc3d5025-11e4-4956-b316-f2b2854616bc",
      "metadata": {
        "colab": {
          "base_uri": "https://localhost:8080/"
        },
        "id": "fc3d5025-11e4-4956-b316-f2b2854616bc",
        "outputId": "19c7827c-9dc9-414d-e9ea-6bd5544c55b3"
      },
      "outputs": [
        {
          "output_type": "stream",
          "name": "stdout",
          "text": [
            "show_id            0\n",
            "type               0\n",
            "title              0\n",
            "director        2634\n",
            "cast             825\n",
            "country          831\n",
            "date_added        98\n",
            "release_year       0\n",
            "rating             4\n",
            "duration           3\n",
            "listed_in          0\n",
            "description        0\n",
            "year_added        98\n",
            "dtype: int64\n",
            "'date_added' column after conversion:\n",
            "\n",
            "0   2021-09-25\n",
            "1   2021-09-24\n",
            "2   2021-09-24\n",
            "3   2021-09-24\n",
            "4   2021-09-24\n",
            "Name: date_added, dtype: datetime64[ns]\n",
            "\n",
            "'year_added' column (extracted year):\n",
            "\n",
            "0    2021.0\n",
            "1    2021.0\n",
            "2    2021.0\n",
            "3    2021.0\n",
            "4    2021.0\n",
            "Name: year_added, dtype: float64\n"
          ]
        }
      ],
      "source": [
        "# Data Cleaning\n",
        "df.isnull().sum()                                                           # check missing values\n",
        "df['date_added'] = pd.to_datetime(df['date_added'], errors='coerce')        # convert into datetime\n",
        "df['year_added'] = df['date_added'].dt.year   # extract year from date_added coloumn\n",
        "print(df.isnull().sum())\n",
        "print(\"'date_added' column after conversion:\\n\")\n",
        "print(df['date_added'].head())\n",
        "print(\"\\n'year_added' column (extracted year):\\n\")\n",
        "print(df['year_added'].head())"
      ]
    },
    {
      "cell_type": "markdown",
      "id": "cd9ca364-ed4f-4c17-9848-3dc435bd7deb",
      "metadata": {
        "id": "cd9ca364-ed4f-4c17-9848-3dc435bd7deb"
      },
      "source": [
        "#### 3. Data Analysis:\n",
        "#### - Count of Movies vs. TV Shows\n",
        "#### - Top 5 countries by content count\n",
        "#### - Most common genres listed\n",
        "#### - Year with the highest content added\n",
        "#### - Total content added each year"
      ]
    },
    {
      "cell_type": "code",
      "execution_count": 14,
      "id": "eb815aa5-d251-4e45-91be-eec63d20cc16",
      "metadata": {
        "colab": {
          "base_uri": "https://localhost:8080/",
          "height": 178
        },
        "id": "eb815aa5-d251-4e45-91be-eec63d20cc16",
        "outputId": "b955d666-8f6b-44bb-be93-c2cdc7fb3d9c"
      },
      "outputs": [
        {
          "output_type": "execute_result",
          "data": {
            "text/plain": [
              "type\n",
              "Movie      6131\n",
              "TV Show    2676\n",
              "Name: count, dtype: int64"
            ],
            "text/html": [
              "<div>\n",
              "<style scoped>\n",
              "    .dataframe tbody tr th:only-of-type {\n",
              "        vertical-align: middle;\n",
              "    }\n",
              "\n",
              "    .dataframe tbody tr th {\n",
              "        vertical-align: top;\n",
              "    }\n",
              "\n",
              "    .dataframe thead th {\n",
              "        text-align: right;\n",
              "    }\n",
              "</style>\n",
              "<table border=\"1\" class=\"dataframe\">\n",
              "  <thead>\n",
              "    <tr style=\"text-align: right;\">\n",
              "      <th></th>\n",
              "      <th>count</th>\n",
              "    </tr>\n",
              "    <tr>\n",
              "      <th>type</th>\n",
              "      <th></th>\n",
              "    </tr>\n",
              "  </thead>\n",
              "  <tbody>\n",
              "    <tr>\n",
              "      <th>Movie</th>\n",
              "      <td>6131</td>\n",
              "    </tr>\n",
              "    <tr>\n",
              "      <th>TV Show</th>\n",
              "      <td>2676</td>\n",
              "    </tr>\n",
              "  </tbody>\n",
              "</table>\n",
              "</div><br><label><b>dtype:</b> int64</label>"
            ]
          },
          "metadata": {},
          "execution_count": 14
        }
      ],
      "source": [
        "#  Count of Movies vs. TV Shows\n",
        "df['type'].value_counts()"
      ]
    },
    {
      "cell_type": "code",
      "execution_count": 15,
      "id": "5671460c-355c-43fa-addf-1cea5826d264",
      "metadata": {
        "colab": {
          "base_uri": "https://localhost:8080/",
          "height": 272
        },
        "id": "5671460c-355c-43fa-addf-1cea5826d264",
        "outputId": "d9220a92-f525-428c-8e2a-1c9858b8bb8f"
      },
      "outputs": [
        {
          "output_type": "execute_result",
          "data": {
            "text/plain": [
              "country\n",
              "United States     2818\n",
              "India              972\n",
              "United Kingdom     419\n",
              "Japan              245\n",
              "South Korea        199\n",
              "Name: count, dtype: int64"
            ],
            "text/html": [
              "<div>\n",
              "<style scoped>\n",
              "    .dataframe tbody tr th:only-of-type {\n",
              "        vertical-align: middle;\n",
              "    }\n",
              "\n",
              "    .dataframe tbody tr th {\n",
              "        vertical-align: top;\n",
              "    }\n",
              "\n",
              "    .dataframe thead th {\n",
              "        text-align: right;\n",
              "    }\n",
              "</style>\n",
              "<table border=\"1\" class=\"dataframe\">\n",
              "  <thead>\n",
              "    <tr style=\"text-align: right;\">\n",
              "      <th></th>\n",
              "      <th>count</th>\n",
              "    </tr>\n",
              "    <tr>\n",
              "      <th>country</th>\n",
              "      <th></th>\n",
              "    </tr>\n",
              "  </thead>\n",
              "  <tbody>\n",
              "    <tr>\n",
              "      <th>United States</th>\n",
              "      <td>2818</td>\n",
              "    </tr>\n",
              "    <tr>\n",
              "      <th>India</th>\n",
              "      <td>972</td>\n",
              "    </tr>\n",
              "    <tr>\n",
              "      <th>United Kingdom</th>\n",
              "      <td>419</td>\n",
              "    </tr>\n",
              "    <tr>\n",
              "      <th>Japan</th>\n",
              "      <td>245</td>\n",
              "    </tr>\n",
              "    <tr>\n",
              "      <th>South Korea</th>\n",
              "      <td>199</td>\n",
              "    </tr>\n",
              "  </tbody>\n",
              "</table>\n",
              "</div><br><label><b>dtype:</b> int64</label>"
            ]
          },
          "metadata": {},
          "execution_count": 15
        }
      ],
      "source": [
        "# Top 5 countries by content count\n",
        "df['country'].value_counts().head(5)"
      ]
    },
    {
      "cell_type": "code",
      "execution_count": 16,
      "id": "748c703e-6940-40b0-a1f0-0bc677b0fbe9",
      "metadata": {
        "colab": {
          "base_uri": "https://localhost:8080/",
          "height": 272
        },
        "id": "748c703e-6940-40b0-a1f0-0bc677b0fbe9",
        "outputId": "a2bc33ed-f34e-47d4-f2be-97e121418421"
      },
      "outputs": [
        {
          "output_type": "execute_result",
          "data": {
            "text/plain": [
              "listed_in\n",
              "Dramas, International Movies                        362\n",
              "Documentaries                                       359\n",
              "Stand-Up Comedy                                     334\n",
              "Comedies, Dramas, International Movies              274\n",
              "Dramas, Independent Movies, International Movies    252\n",
              "Name: count, dtype: int64"
            ],
            "text/html": [
              "<div>\n",
              "<style scoped>\n",
              "    .dataframe tbody tr th:only-of-type {\n",
              "        vertical-align: middle;\n",
              "    }\n",
              "\n",
              "    .dataframe tbody tr th {\n",
              "        vertical-align: top;\n",
              "    }\n",
              "\n",
              "    .dataframe thead th {\n",
              "        text-align: right;\n",
              "    }\n",
              "</style>\n",
              "<table border=\"1\" class=\"dataframe\">\n",
              "  <thead>\n",
              "    <tr style=\"text-align: right;\">\n",
              "      <th></th>\n",
              "      <th>count</th>\n",
              "    </tr>\n",
              "    <tr>\n",
              "      <th>listed_in</th>\n",
              "      <th></th>\n",
              "    </tr>\n",
              "  </thead>\n",
              "  <tbody>\n",
              "    <tr>\n",
              "      <th>Dramas, International Movies</th>\n",
              "      <td>362</td>\n",
              "    </tr>\n",
              "    <tr>\n",
              "      <th>Documentaries</th>\n",
              "      <td>359</td>\n",
              "    </tr>\n",
              "    <tr>\n",
              "      <th>Stand-Up Comedy</th>\n",
              "      <td>334</td>\n",
              "    </tr>\n",
              "    <tr>\n",
              "      <th>Comedies, Dramas, International Movies</th>\n",
              "      <td>274</td>\n",
              "    </tr>\n",
              "    <tr>\n",
              "      <th>Dramas, Independent Movies, International Movies</th>\n",
              "      <td>252</td>\n",
              "    </tr>\n",
              "  </tbody>\n",
              "</table>\n",
              "</div><br><label><b>dtype:</b> int64</label>"
            ]
          },
          "metadata": {},
          "execution_count": 16
        }
      ],
      "source": [
        "#  Most common genres listed\n",
        "df['listed_in'].value_counts().head(5)"
      ]
    },
    {
      "cell_type": "code",
      "execution_count": 17,
      "id": "6ca66239-3ab2-4518-b67e-9bbacc05ec27",
      "metadata": {
        "colab": {
          "base_uri": "https://localhost:8080/"
        },
        "id": "6ca66239-3ab2-4518-b67e-9bbacc05ec27",
        "outputId": "09315e35-94cf-4ca0-842a-52853a10e996"
      },
      "outputs": [
        {
          "output_type": "execute_result",
          "data": {
            "text/plain": [
              "np.float64(2019.0)"
            ]
          },
          "metadata": {},
          "execution_count": 17
        }
      ],
      "source": [
        "# Year with the highest content added\n",
        "df['year_added'].value_counts().idxmax()"
      ]
    },
    {
      "cell_type": "code",
      "execution_count": 18,
      "id": "5e6c5731-be12-40d4-8a91-206915a7d218",
      "metadata": {
        "colab": {
          "base_uri": "https://localhost:8080/",
          "height": 554
        },
        "id": "5e6c5731-be12-40d4-8a91-206915a7d218",
        "outputId": "28aa9178-ea90-4059-8e6b-e05162d7f3c7"
      },
      "outputs": [
        {
          "output_type": "execute_result",
          "data": {
            "text/plain": [
              "year_added\n",
              "2008.0       2\n",
              "2009.0       2\n",
              "2010.0       1\n",
              "2011.0      13\n",
              "2012.0       3\n",
              "2013.0      10\n",
              "2014.0      23\n",
              "2015.0      73\n",
              "2016.0     418\n",
              "2017.0    1164\n",
              "2018.0    1625\n",
              "2019.0    1999\n",
              "2020.0    1878\n",
              "2021.0    1498\n",
              "Name: count, dtype: int64"
            ],
            "text/html": [
              "<div>\n",
              "<style scoped>\n",
              "    .dataframe tbody tr th:only-of-type {\n",
              "        vertical-align: middle;\n",
              "    }\n",
              "\n",
              "    .dataframe tbody tr th {\n",
              "        vertical-align: top;\n",
              "    }\n",
              "\n",
              "    .dataframe thead th {\n",
              "        text-align: right;\n",
              "    }\n",
              "</style>\n",
              "<table border=\"1\" class=\"dataframe\">\n",
              "  <thead>\n",
              "    <tr style=\"text-align: right;\">\n",
              "      <th></th>\n",
              "      <th>count</th>\n",
              "    </tr>\n",
              "    <tr>\n",
              "      <th>year_added</th>\n",
              "      <th></th>\n",
              "    </tr>\n",
              "  </thead>\n",
              "  <tbody>\n",
              "    <tr>\n",
              "      <th>2008.0</th>\n",
              "      <td>2</td>\n",
              "    </tr>\n",
              "    <tr>\n",
              "      <th>2009.0</th>\n",
              "      <td>2</td>\n",
              "    </tr>\n",
              "    <tr>\n",
              "      <th>2010.0</th>\n",
              "      <td>1</td>\n",
              "    </tr>\n",
              "    <tr>\n",
              "      <th>2011.0</th>\n",
              "      <td>13</td>\n",
              "    </tr>\n",
              "    <tr>\n",
              "      <th>2012.0</th>\n",
              "      <td>3</td>\n",
              "    </tr>\n",
              "    <tr>\n",
              "      <th>2013.0</th>\n",
              "      <td>10</td>\n",
              "    </tr>\n",
              "    <tr>\n",
              "      <th>2014.0</th>\n",
              "      <td>23</td>\n",
              "    </tr>\n",
              "    <tr>\n",
              "      <th>2015.0</th>\n",
              "      <td>73</td>\n",
              "    </tr>\n",
              "    <tr>\n",
              "      <th>2016.0</th>\n",
              "      <td>418</td>\n",
              "    </tr>\n",
              "    <tr>\n",
              "      <th>2017.0</th>\n",
              "      <td>1164</td>\n",
              "    </tr>\n",
              "    <tr>\n",
              "      <th>2018.0</th>\n",
              "      <td>1625</td>\n",
              "    </tr>\n",
              "    <tr>\n",
              "      <th>2019.0</th>\n",
              "      <td>1999</td>\n",
              "    </tr>\n",
              "    <tr>\n",
              "      <th>2020.0</th>\n",
              "      <td>1878</td>\n",
              "    </tr>\n",
              "    <tr>\n",
              "      <th>2021.0</th>\n",
              "      <td>1498</td>\n",
              "    </tr>\n",
              "  </tbody>\n",
              "</table>\n",
              "</div><br><label><b>dtype:</b> int64</label>"
            ]
          },
          "metadata": {},
          "execution_count": 18
        }
      ],
      "source": [
        "# Total content added each year\n",
        "df['year_added'].value_counts().sort_index()"
      ]
    },
    {
      "cell_type": "markdown",
      "id": "c8414de6-4f63-44c0-83cb-c44362500c7e",
      "metadata": {
        "id": "c8414de6-4f63-44c0-83cb-c44362500c7e"
      },
      "source": [
        "#### 4. Data Visualization (Using Matplotlib):\n",
        "#### - Bar chart: Movies vs. TV Shows\n",
        "#### - Pie chart: Distribution of top 5 genres\n",
        "#### - Line graph: Content added over the years\n",
        "#### - Horizontal bar chart: Top 5 content-producing countries"
      ]
    },
    {
      "cell_type": "code",
      "execution_count": 19,
      "id": "f2e6bc6c-2f0a-45b5-ae30-ed0ca9819ebe",
      "metadata": {
        "colab": {
          "base_uri": "https://localhost:8080/",
          "height": 1000
        },
        "id": "f2e6bc6c-2f0a-45b5-ae30-ed0ca9819ebe",
        "outputId": "d0daafda-2943-4374-a92b-39b39dffe42e"
      },
      "outputs": [
        {
          "output_type": "display_data",
          "data": {
            "text/plain": [
              "<Figure size 640x480 with 1 Axes>"
            ],
            "image/png": "[encoded data removed]"
          },
          "metadata": {}
        },
        {
          "output_type": "display_data",
          "data": {
            "text/plain": [
              "<Figure size 640x480 with 1 Axes>"
            ],
            "image/png": "[encoded data removed]"
          },
          "metadata": {}
        },
        {
          "output_type": "display_data",
          "data": {
            "text/plain": [
              "<Figure size 640x480 with 1 Axes>"
            ],
            "image/png": "[encoded data removed]"
          },
          "metadata": {}
        },
        {
          "output_type": "display_data",
          "data": {
            "text/plain": [
              "<Figure size 640x480 with 1 Axes>"
            ],
            "image/png": "[encoded data removed]"
          },
          "metadata": {}
        }
      ],
      "source": [
        "# Data Visualization (Using Matplotlib)\n",
        "import matplotlib.pyplot as plt\n",
        "\n",
        "# Bar chart: Movies vs. TV Shows\n",
        "df['type'].value_counts().plot(kind='bar', title='Movies vs. TV Shows')\n",
        "plt.show()\n",
        "\n",
        "# Pie chart: Distribution of top 5 genres\n",
        "df['listed_in'].value_counts().head(5).plot(kind='pie', autopct='%1.1f%%', title='Top 5 Genres')\n",
        "plt.ylabel(\"\")\n",
        "plt.show()\n",
        "\n",
        "# Line graph: Content added over the years\n",
        "df['year_added'].value_counts().sort_index().plot(kind='line', title='Content Added Over the Years')\n",
        "plt.xlabel('Year')\n",
        "plt.ylabel('Number of Shows Added')\n",
        "plt.show()\n",
        "\n",
        "# Horizontal bar chart: Top 5 content-producing countries\n",
        "df['country'].value_counts().head(5).plot(kind='barh', title='Top 5 Content-Producing Countries')\n",
        "plt.xlabel('Number of Titles')\n",
        "plt.show()"
      ]
    }
  ],
  "metadata": {
    "kernelspec": {
      "display_name": "Python 3 (ipykernel)",
      "language": "python",
      "name": "python3"
    },
    "language_info": {
      "codemirror_mode": {
        "name": "ipython",
        "version": 3
      },
      "file_extension": ".py",
      "mimetype": "text/x-python",
      "name": "python",
      "nbconvert_exporter": "python",
      "pygments_lexer": "ipython3",
      "version": "3.12.7"
    },
    "colab": {
      "provenance": [],
      "include_colab_link": true
    }
  },
  "nbformat": 4,
  "nbformat_minor": 5
}